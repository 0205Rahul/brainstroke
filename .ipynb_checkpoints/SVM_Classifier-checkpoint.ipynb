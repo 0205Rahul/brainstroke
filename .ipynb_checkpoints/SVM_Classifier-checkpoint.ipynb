{
 "cells": [
  {
   "cell_type": "code",
   "execution_count": 1,
   "id": "8d2e9373",
   "metadata": {
    "is_executing": true
   },
   "outputs": [],
   "source": [
    "import pandas as pd\n",
    "import numpy as np\n",
    "import seaborn as sns\n",
    "import matplotlib.pyplot as plt"
   ]
  },
  {
   "cell_type": "code",
   "execution_count": 45,
   "id": "63f21c8f",
   "metadata": {},
   "outputs": [],
   "source": [
    "from sklearn.model_selection import train_test_split, cross_val_score\n",
    "from sklearn.preprocessing import StandardScaler\n",
    "from sklearn import svm\n",
    "from sklearn.metrics import accuracy_score, confusion_matrix, roc_auc_score, roc_curve, auc\n",
    "from sklearn.metrics import ConfusionMatrixDisplay, classification_report, hinge_loss"
   ]
  },
  {
   "cell_type": "code",
   "execution_count": 3,
   "id": "56ed99a0",
   "metadata": {},
   "outputs": [],
   "source": [
    "df = pd.read_excel(r\"Datasets/usefile.xlsx\")"
   ]
  },
  {
   "cell_type": "code",
   "execution_count": 4,
   "id": "42c48c1e",
   "metadata": {},
   "outputs": [
    {
     "data": {
      "text/html": [
       "<div>\n",
       "<style scoped>\n",
       "    .dataframe tbody tr th:only-of-type {\n",
       "        vertical-align: middle;\n",
       "    }\n",
       "\n",
       "    .dataframe tbody tr th {\n",
       "        vertical-align: top;\n",
       "    }\n",
       "\n",
       "    .dataframe thead th {\n",
       "        text-align: right;\n",
       "    }\n",
       "</style>\n",
       "<table border=\"1\" class=\"dataframe\">\n",
       "  <thead>\n",
       "    <tr style=\"text-align: right;\">\n",
       "      <th></th>\n",
       "      <th>Gender Index</th>\n",
       "      <th>Age</th>\n",
       "      <th>Hypertension</th>\n",
       "      <th>Heart Disease</th>\n",
       "      <th>Martial Status</th>\n",
       "      <th>Work Type Index</th>\n",
       "      <th>Residence Type</th>\n",
       "      <th>Average Glucose Level</th>\n",
       "      <th>BMI</th>\n",
       "      <th>Smoking Status Index</th>\n",
       "      <th>Stroke</th>\n",
       "    </tr>\n",
       "  </thead>\n",
       "  <tbody>\n",
       "    <tr>\n",
       "      <th>0</th>\n",
       "      <td>0</td>\n",
       "      <td>3.0</td>\n",
       "      <td>0</td>\n",
       "      <td>0</td>\n",
       "      <td>0</td>\n",
       "      <td>0</td>\n",
       "      <td>0</td>\n",
       "      <td>95.12</td>\n",
       "      <td>18.0</td>\n",
       "      <td>0</td>\n",
       "      <td>0</td>\n",
       "    </tr>\n",
       "    <tr>\n",
       "      <th>1</th>\n",
       "      <td>0</td>\n",
       "      <td>58.0</td>\n",
       "      <td>1</td>\n",
       "      <td>0</td>\n",
       "      <td>1</td>\n",
       "      <td>2</td>\n",
       "      <td>1</td>\n",
       "      <td>87.96</td>\n",
       "      <td>39.2</td>\n",
       "      <td>0</td>\n",
       "      <td>0</td>\n",
       "    </tr>\n",
       "    <tr>\n",
       "      <th>2</th>\n",
       "      <td>1</td>\n",
       "      <td>8.0</td>\n",
       "      <td>0</td>\n",
       "      <td>0</td>\n",
       "      <td>0</td>\n",
       "      <td>2</td>\n",
       "      <td>1</td>\n",
       "      <td>110.89</td>\n",
       "      <td>17.6</td>\n",
       "      <td>0</td>\n",
       "      <td>0</td>\n",
       "    </tr>\n",
       "    <tr>\n",
       "      <th>3</th>\n",
       "      <td>1</td>\n",
       "      <td>70.0</td>\n",
       "      <td>0</td>\n",
       "      <td>0</td>\n",
       "      <td>1</td>\n",
       "      <td>2</td>\n",
       "      <td>0</td>\n",
       "      <td>69.04</td>\n",
       "      <td>35.9</td>\n",
       "      <td>1</td>\n",
       "      <td>0</td>\n",
       "    </tr>\n",
       "    <tr>\n",
       "      <th>4</th>\n",
       "      <td>1</td>\n",
       "      <td>47.0</td>\n",
       "      <td>0</td>\n",
       "      <td>0</td>\n",
       "      <td>1</td>\n",
       "      <td>2</td>\n",
       "      <td>1</td>\n",
       "      <td>210.95</td>\n",
       "      <td>50.1</td>\n",
       "      <td>0</td>\n",
       "      <td>0</td>\n",
       "    </tr>\n",
       "    <tr>\n",
       "      <th>5</th>\n",
       "      <td>0</td>\n",
       "      <td>14.0</td>\n",
       "      <td>0</td>\n",
       "      <td>0</td>\n",
       "      <td>0</td>\n",
       "      <td>1</td>\n",
       "      <td>0</td>\n",
       "      <td>161.28</td>\n",
       "      <td>19.1</td>\n",
       "      <td>0</td>\n",
       "      <td>0</td>\n",
       "    </tr>\n",
       "    <tr>\n",
       "      <th>6</th>\n",
       "      <td>1</td>\n",
       "      <td>52.0</td>\n",
       "      <td>0</td>\n",
       "      <td>0</td>\n",
       "      <td>1</td>\n",
       "      <td>2</td>\n",
       "      <td>1</td>\n",
       "      <td>77.59</td>\n",
       "      <td>17.7</td>\n",
       "      <td>1</td>\n",
       "      <td>0</td>\n",
       "    </tr>\n",
       "    <tr>\n",
       "      <th>7</th>\n",
       "      <td>1</td>\n",
       "      <td>75.0</td>\n",
       "      <td>0</td>\n",
       "      <td>1</td>\n",
       "      <td>1</td>\n",
       "      <td>3</td>\n",
       "      <td>0</td>\n",
       "      <td>243.53</td>\n",
       "      <td>27.0</td>\n",
       "      <td>0</td>\n",
       "      <td>0</td>\n",
       "    </tr>\n",
       "    <tr>\n",
       "      <th>8</th>\n",
       "      <td>1</td>\n",
       "      <td>32.0</td>\n",
       "      <td>0</td>\n",
       "      <td>0</td>\n",
       "      <td>1</td>\n",
       "      <td>2</td>\n",
       "      <td>0</td>\n",
       "      <td>77.67</td>\n",
       "      <td>32.3</td>\n",
       "      <td>2</td>\n",
       "      <td>0</td>\n",
       "    </tr>\n",
       "    <tr>\n",
       "      <th>9</th>\n",
       "      <td>1</td>\n",
       "      <td>74.0</td>\n",
       "      <td>1</td>\n",
       "      <td>0</td>\n",
       "      <td>1</td>\n",
       "      <td>3</td>\n",
       "      <td>1</td>\n",
       "      <td>205.84</td>\n",
       "      <td>54.6</td>\n",
       "      <td>0</td>\n",
       "      <td>0</td>\n",
       "    </tr>\n",
       "  </tbody>\n",
       "</table>\n",
       "</div>"
      ],
      "text/plain": [
       "   Gender Index   Age  Hypertension  Heart Disease  Martial Status  \\\n",
       "0             0   3.0             0              0               0   \n",
       "1             0  58.0             1              0               1   \n",
       "2             1   8.0             0              0               0   \n",
       "3             1  70.0             0              0               1   \n",
       "4             1  47.0             0              0               1   \n",
       "5             0  14.0             0              0               0   \n",
       "6             1  52.0             0              0               1   \n",
       "7             1  75.0             0              1               1   \n",
       "8             1  32.0             0              0               1   \n",
       "9             1  74.0             1              0               1   \n",
       "\n",
       "   Work Type Index  Residence Type  Average Glucose Level   BMI  \\\n",
       "0                0               0                  95.12  18.0   \n",
       "1                2               1                  87.96  39.2   \n",
       "2                2               1                 110.89  17.6   \n",
       "3                2               0                  69.04  35.9   \n",
       "4                2               1                 210.95  50.1   \n",
       "5                1               0                 161.28  19.1   \n",
       "6                2               1                  77.59  17.7   \n",
       "7                3               0                 243.53  27.0   \n",
       "8                2               0                  77.67  32.3   \n",
       "9                3               1                 205.84  54.6   \n",
       "\n",
       "   Smoking Status Index  Stroke  \n",
       "0                     0       0  \n",
       "1                     0       0  \n",
       "2                     0       0  \n",
       "3                     1       0  \n",
       "4                     0       0  \n",
       "5                     0       0  \n",
       "6                     1       0  \n",
       "7                     0       0  \n",
       "8                     2       0  \n",
       "9                     0       0  "
      ]
     },
     "execution_count": 4,
     "metadata": {},
     "output_type": "execute_result"
    }
   ],
   "source": [
    "df.head(10)"
   ]
  },
  {
   "cell_type": "code",
   "execution_count": 5,
   "id": "13967ea4",
   "metadata": {},
   "outputs": [
    {
     "data": {
      "text/html": [
       "<div>\n",
       "<style scoped>\n",
       "    .dataframe tbody tr th:only-of-type {\n",
       "        vertical-align: middle;\n",
       "    }\n",
       "\n",
       "    .dataframe tbody tr th {\n",
       "        vertical-align: top;\n",
       "    }\n",
       "\n",
       "    .dataframe thead th {\n",
       "        text-align: right;\n",
       "    }\n",
       "</style>\n",
       "<table border=\"1\" class=\"dataframe\">\n",
       "  <thead>\n",
       "    <tr style=\"text-align: right;\">\n",
       "      <th></th>\n",
       "      <th>Gender Index</th>\n",
       "      <th>Age</th>\n",
       "      <th>Hypertension</th>\n",
       "      <th>Heart Disease</th>\n",
       "      <th>Martial Status</th>\n",
       "      <th>Work Type Index</th>\n",
       "      <th>Residence Type</th>\n",
       "      <th>Average Glucose Level</th>\n",
       "      <th>BMI</th>\n",
       "      <th>Smoking Status Index</th>\n",
       "      <th>Stroke</th>\n",
       "    </tr>\n",
       "  </thead>\n",
       "  <tbody>\n",
       "    <tr>\n",
       "      <th>count</th>\n",
       "      <td>43400.000000</td>\n",
       "      <td>43400.000000</td>\n",
       "      <td>43400.000000</td>\n",
       "      <td>43400.000000</td>\n",
       "      <td>43400.000000</td>\n",
       "      <td>43400.000000</td>\n",
       "      <td>43400.000000</td>\n",
       "      <td>43400.000000</td>\n",
       "      <td>43400.000000</td>\n",
       "      <td>43400.000000</td>\n",
       "      <td>43400.000000</td>\n",
       "    </tr>\n",
       "    <tr>\n",
       "      <th>mean</th>\n",
       "      <td>0.591866</td>\n",
       "      <td>42.217894</td>\n",
       "      <td>0.093571</td>\n",
       "      <td>0.047512</td>\n",
       "      <td>0.643733</td>\n",
       "      <td>2.119447</td>\n",
       "      <td>0.501290</td>\n",
       "      <td>104.482750</td>\n",
       "      <td>28.574551</td>\n",
       "      <td>0.475046</td>\n",
       "      <td>0.018041</td>\n",
       "    </tr>\n",
       "    <tr>\n",
       "      <th>std</th>\n",
       "      <td>0.492009</td>\n",
       "      <td>22.519649</td>\n",
       "      <td>0.291235</td>\n",
       "      <td>0.212733</td>\n",
       "      <td>0.478901</td>\n",
       "      <td>1.102323</td>\n",
       "      <td>0.500004</td>\n",
       "      <td>43.111751</td>\n",
       "      <td>7.639769</td>\n",
       "      <td>0.742823</td>\n",
       "      <td>0.133103</td>\n",
       "    </tr>\n",
       "    <tr>\n",
       "      <th>min</th>\n",
       "      <td>0.000000</td>\n",
       "      <td>0.080000</td>\n",
       "      <td>0.000000</td>\n",
       "      <td>0.000000</td>\n",
       "      <td>0.000000</td>\n",
       "      <td>0.000000</td>\n",
       "      <td>0.000000</td>\n",
       "      <td>55.000000</td>\n",
       "      <td>10.100000</td>\n",
       "      <td>0.000000</td>\n",
       "      <td>0.000000</td>\n",
       "    </tr>\n",
       "    <tr>\n",
       "      <th>25%</th>\n",
       "      <td>0.000000</td>\n",
       "      <td>24.000000</td>\n",
       "      <td>0.000000</td>\n",
       "      <td>0.000000</td>\n",
       "      <td>0.000000</td>\n",
       "      <td>2.000000</td>\n",
       "      <td>0.000000</td>\n",
       "      <td>77.540000</td>\n",
       "      <td>23.400000</td>\n",
       "      <td>0.000000</td>\n",
       "      <td>0.000000</td>\n",
       "    </tr>\n",
       "    <tr>\n",
       "      <th>50%</th>\n",
       "      <td>1.000000</td>\n",
       "      <td>44.000000</td>\n",
       "      <td>0.000000</td>\n",
       "      <td>0.000000</td>\n",
       "      <td>1.000000</td>\n",
       "      <td>2.000000</td>\n",
       "      <td>1.000000</td>\n",
       "      <td>91.580000</td>\n",
       "      <td>27.700000</td>\n",
       "      <td>0.000000</td>\n",
       "      <td>0.000000</td>\n",
       "    </tr>\n",
       "    <tr>\n",
       "      <th>75%</th>\n",
       "      <td>1.000000</td>\n",
       "      <td>60.000000</td>\n",
       "      <td>0.000000</td>\n",
       "      <td>0.000000</td>\n",
       "      <td>1.000000</td>\n",
       "      <td>3.000000</td>\n",
       "      <td>1.000000</td>\n",
       "      <td>112.070000</td>\n",
       "      <td>32.600000</td>\n",
       "      <td>1.000000</td>\n",
       "      <td>0.000000</td>\n",
       "    </tr>\n",
       "    <tr>\n",
       "      <th>max</th>\n",
       "      <td>2.000000</td>\n",
       "      <td>82.000000</td>\n",
       "      <td>1.000000</td>\n",
       "      <td>1.000000</td>\n",
       "      <td>1.000000</td>\n",
       "      <td>4.000000</td>\n",
       "      <td>1.000000</td>\n",
       "      <td>291.050000</td>\n",
       "      <td>97.600000</td>\n",
       "      <td>2.000000</td>\n",
       "      <td>1.000000</td>\n",
       "    </tr>\n",
       "  </tbody>\n",
       "</table>\n",
       "</div>"
      ],
      "text/plain": [
       "       Gender Index           Age  Hypertension  Heart Disease  \\\n",
       "count  43400.000000  43400.000000  43400.000000   43400.000000   \n",
       "mean       0.591866     42.217894      0.093571       0.047512   \n",
       "std        0.492009     22.519649      0.291235       0.212733   \n",
       "min        0.000000      0.080000      0.000000       0.000000   \n",
       "25%        0.000000     24.000000      0.000000       0.000000   \n",
       "50%        1.000000     44.000000      0.000000       0.000000   \n",
       "75%        1.000000     60.000000      0.000000       0.000000   \n",
       "max        2.000000     82.000000      1.000000       1.000000   \n",
       "\n",
       "       Martial Status  Work Type Index  Residence Type  Average Glucose Level  \\\n",
       "count    43400.000000     43400.000000    43400.000000           43400.000000   \n",
       "mean         0.643733         2.119447        0.501290             104.482750   \n",
       "std          0.478901         1.102323        0.500004              43.111751   \n",
       "min          0.000000         0.000000        0.000000              55.000000   \n",
       "25%          0.000000         2.000000        0.000000              77.540000   \n",
       "50%          1.000000         2.000000        1.000000              91.580000   \n",
       "75%          1.000000         3.000000        1.000000             112.070000   \n",
       "max          1.000000         4.000000        1.000000             291.050000   \n",
       "\n",
       "                BMI  Smoking Status Index        Stroke  \n",
       "count  43400.000000          43400.000000  43400.000000  \n",
       "mean      28.574551              0.475046      0.018041  \n",
       "std        7.639769              0.742823      0.133103  \n",
       "min       10.100000              0.000000      0.000000  \n",
       "25%       23.400000              0.000000      0.000000  \n",
       "50%       27.700000              0.000000      0.000000  \n",
       "75%       32.600000              1.000000      0.000000  \n",
       "max       97.600000              2.000000      1.000000  "
      ]
     },
     "execution_count": 5,
     "metadata": {},
     "output_type": "execute_result"
    }
   ],
   "source": [
    "df.describe()"
   ]
  },
  {
   "cell_type": "code",
   "execution_count": 6,
   "id": "0440ad92",
   "metadata": {},
   "outputs": [
    {
     "data": {
      "text/plain": [
       "Gender Index             0\n",
       "Age                      0\n",
       "Hypertension             0\n",
       "Heart Disease            0\n",
       "Martial Status           0\n",
       "Work Type Index          0\n",
       "Residence Type           0\n",
       "Average Glucose Level    0\n",
       "BMI                      0\n",
       "Smoking Status Index     0\n",
       "Stroke                   0\n",
       "dtype: int64"
      ]
     },
     "execution_count": 6,
     "metadata": {},
     "output_type": "execute_result"
    }
   ],
   "source": [
    "df.isnull().sum()"
   ]
  },
  {
   "cell_type": "code",
   "execution_count": 7,
   "id": "cfed5e07",
   "metadata": {},
   "outputs": [
    {
     "data": {
      "text/plain": [
       "<AxesSubplot:>"
      ]
     },
     "execution_count": 7,
     "metadata": {},
     "output_type": "execute_result"
    },
    {
     "data": {
      "image/png": "[encoded data removed]",
      "text/plain": [
       "<Figure size 1008x504 with 2 Axes>"
      ]
     },
     "metadata": {
      "needs_background": "light"
     },
     "output_type": "display_data"
    }
   ],
   "source": [
    "plt.rcParams['figure.figsize'] = (14,7)\n",
    "sns.heatmap(data=df.corr(),annot=True,fmt='.2f',cmap='Blues')"
   ]
  },
  {
   "cell_type": "code",
   "execution_count": 8,
   "id": "ef952fc6",
   "metadata": {},
   "outputs": [
    {
     "data": {
      "text/plain": [
       "(43400, 11)"
      ]
     },
     "execution_count": 8,
     "metadata": {},
     "output_type": "execute_result"
    }
   ],
   "source": [
    "df.shape"
   ]
  },
  {
   "cell_type": "code",
   "execution_count": 9,
   "id": "2c2959b2",
   "metadata": {},
   "outputs": [
    {
     "data": {
      "text/plain": [
       "0    42617\n",
       "1      783\n",
       "Name: Stroke, dtype: int64"
      ]
     },
     "execution_count": 9,
     "metadata": {},
     "output_type": "execute_result"
    }
   ],
   "source": [
    "df['Stroke'].value_counts()"
   ]
  },
  {
   "cell_type": "code",
   "execution_count": 10,
   "id": "00fd3626",
   "metadata": {},
   "outputs": [
    {
     "data": {
      "text/plain": [
       "Gender Index               int64\n",
       "Age                      float64\n",
       "Hypertension               int64\n",
       "Heart Disease              int64\n",
       "Martial Status             int64\n",
       "Work Type Index            int64\n",
       "Residence Type             int64\n",
       "Average Glucose Level    float64\n",
       "BMI                      float64\n",
       "Smoking Status Index       int64\n",
       "Stroke                     int64\n",
       "dtype: object"
      ]
     },
     "execution_count": 10,
     "metadata": {},
     "output_type": "execute_result"
    }
   ],
   "source": [
    "df.dtypes"
   ]
  },
  {
   "cell_type": "markdown",
   "id": "f27af178",
   "metadata": {},
   "source": [
    "## Split in Train,Test "
   ]
  },
  {
   "cell_type": "code",
   "execution_count": 11,
   "id": "f03be5e1",
   "metadata": {},
   "outputs": [
    {
     "data": {
      "text/html": [
       "<div>\n",
       "<style scoped>\n",
       "    .dataframe tbody tr th:only-of-type {\n",
       "        vertical-align: middle;\n",
       "    }\n",
       "\n",
       "    .dataframe tbody tr th {\n",
       "        vertical-align: top;\n",
       "    }\n",
       "\n",
       "    .dataframe thead th {\n",
       "        text-align: right;\n",
       "    }\n",
       "</style>\n",
       "<table border=\"1\" class=\"dataframe\">\n",
       "  <thead>\n",
       "    <tr style=\"text-align: right;\">\n",
       "      <th></th>\n",
       "      <th>Gender Index</th>\n",
       "      <th>Age</th>\n",
       "      <th>Hypertension</th>\n",
       "      <th>Heart Disease</th>\n",
       "      <th>Martial Status</th>\n",
       "      <th>Work Type Index</th>\n",
       "      <th>Residence Type</th>\n",
       "      <th>Average Glucose Level</th>\n",
       "      <th>BMI</th>\n",
       "      <th>Smoking Status Index</th>\n",
       "    </tr>\n",
       "  </thead>\n",
       "  <tbody>\n",
       "    <tr>\n",
       "      <th>0</th>\n",
       "      <td>0</td>\n",
       "      <td>3.0</td>\n",
       "      <td>0</td>\n",
       "      <td>0</td>\n",
       "      <td>0</td>\n",
       "      <td>0</td>\n",
       "      <td>0</td>\n",
       "      <td>95.12</td>\n",
       "      <td>18.0</td>\n",
       "      <td>0</td>\n",
       "    </tr>\n",
       "    <tr>\n",
       "      <th>1</th>\n",
       "      <td>0</td>\n",
       "      <td>58.0</td>\n",
       "      <td>1</td>\n",
       "      <td>0</td>\n",
       "      <td>1</td>\n",
       "      <td>2</td>\n",
       "      <td>1</td>\n",
       "      <td>87.96</td>\n",
       "      <td>39.2</td>\n",
       "      <td>0</td>\n",
       "    </tr>\n",
       "    <tr>\n",
       "      <th>2</th>\n",
       "      <td>1</td>\n",
       "      <td>8.0</td>\n",
       "      <td>0</td>\n",
       "      <td>0</td>\n",
       "      <td>0</td>\n",
       "      <td>2</td>\n",
       "      <td>1</td>\n",
       "      <td>110.89</td>\n",
       "      <td>17.6</td>\n",
       "      <td>0</td>\n",
       "    </tr>\n",
       "    <tr>\n",
       "      <th>3</th>\n",
       "      <td>1</td>\n",
       "      <td>70.0</td>\n",
       "      <td>0</td>\n",
       "      <td>0</td>\n",
       "      <td>1</td>\n",
       "      <td>2</td>\n",
       "      <td>0</td>\n",
       "      <td>69.04</td>\n",
       "      <td>35.9</td>\n",
       "      <td>1</td>\n",
       "    </tr>\n",
       "    <tr>\n",
       "      <th>4</th>\n",
       "      <td>1</td>\n",
       "      <td>47.0</td>\n",
       "      <td>0</td>\n",
       "      <td>0</td>\n",
       "      <td>1</td>\n",
       "      <td>2</td>\n",
       "      <td>1</td>\n",
       "      <td>210.95</td>\n",
       "      <td>50.1</td>\n",
       "      <td>0</td>\n",
       "    </tr>\n",
       "  </tbody>\n",
       "</table>\n",
       "</div>"
      ],
      "text/plain": [
       "   Gender Index   Age  Hypertension  Heart Disease  Martial Status  \\\n",
       "0             0   3.0             0              0               0   \n",
       "1             0  58.0             1              0               1   \n",
       "2             1   8.0             0              0               0   \n",
       "3             1  70.0             0              0               1   \n",
       "4             1  47.0             0              0               1   \n",
       "\n",
       "   Work Type Index  Residence Type  Average Glucose Level   BMI  \\\n",
       "0                0               0                  95.12  18.0   \n",
       "1                2               1                  87.96  39.2   \n",
       "2                2               1                 110.89  17.6   \n",
       "3                2               0                  69.04  35.9   \n",
       "4                2               1                 210.95  50.1   \n",
       "\n",
       "   Smoking Status Index  \n",
       "0                     0  \n",
       "1                     0  \n",
       "2                     0  \n",
       "3                     1  \n",
       "4                     0  "
      ]
     },
     "execution_count": 11,
     "metadata": {},
     "output_type": "execute_result"
    }
   ],
   "source": [
    "X = df.drop('Stroke',axis=1)\n",
    "X.head(5)"
   ]
  },
  {
   "cell_type": "code",
   "execution_count": 12,
   "id": "59c6d228",
   "metadata": {},
   "outputs": [
    {
     "data": {
      "text/plain": [
       "0    0\n",
       "1    0\n",
       "2    0\n",
       "3    0\n",
       "4    0\n",
       "Name: Stroke, dtype: int64"
      ]
     },
     "execution_count": 12,
     "metadata": {},
     "output_type": "execute_result"
    }
   ],
   "source": [
    "y = df['Stroke']\n",
    "y.head(5)"
   ]
  },
  {
   "cell_type": "code",
   "execution_count": 50,
   "id": "b98fa5cf",
   "metadata": {},
   "outputs": [],
   "source": [
    "X_train,X_test,y_train,y_test = train_test_split(X,y,random_state = 0, test_size = 0.2)"
   ]
  },
  {
   "cell_type": "code",
   "execution_count": 51,
   "id": "640ddc66",
   "metadata": {},
   "outputs": [
    {
     "data": {
      "text/plain": [
       "(34720, 10)"
      ]
     },
     "execution_count": 51,
     "metadata": {},
     "output_type": "execute_result"
    }
   ],
   "source": [
    "X_train.shape"
   ]
  },
  {
   "cell_type": "code",
   "execution_count": 52,
   "id": "f3ab1dae",
   "metadata": {},
   "outputs": [
    {
     "data": {
      "text/plain": [
       "(8680, 10)"
      ]
     },
     "execution_count": 52,
     "metadata": {},
     "output_type": "execute_result"
    }
   ],
   "source": [
    "X_test.shape"
   ]
  },
  {
   "cell_type": "code",
   "execution_count": 53,
   "id": "9f9179c6",
   "metadata": {},
   "outputs": [],
   "source": [
    "sc = StandardScaler()\n",
    "X_train = sc.fit_transform(X_train)\n",
    "X_test = sc.fit_transform(X_test)"
   ]
  },
  {
   "cell_type": "code",
   "execution_count": 54,
   "id": "0d9ae628",
   "metadata": {},
   "outputs": [
    {
     "data": {
      "text/plain": [
       "array([[ 0.82969259,  1.32213599, -0.3222331 , ..., -0.71882026,\n",
       "        -0.6875417 ,  0.71218423],\n",
       "       [ 0.82969259, -0.93854822, -0.3222331 , ..., -0.39099967,\n",
       "        -1.41014335, -0.63806076],\n",
       "       [-1.20239874,  1.5437717 , -0.3222331 , ..., -0.90813491,\n",
       "        -0.10946038,  0.71218423],\n",
       "       ...,\n",
       "       [ 0.82969259,  1.76540741, -0.3222331 , ..., -1.04803287,\n",
       "        -0.63498885,  0.71218423],\n",
       "       [-1.20239874,  0.56857459, -0.3222331 , ..., -0.03255466,\n",
       "         1.19122259, -0.63806076],\n",
       "       [ 0.82969259,  1.36646313,  3.10334351, ..., -0.85895022,\n",
       "         0.56058843,  0.71218423]])"
      ]
     },
     "execution_count": 54,
     "metadata": {},
     "output_type": "execute_result"
    }
   ],
   "source": [
    "X_train"
   ]
  },
  {
   "cell_type": "code",
   "execution_count": 55,
   "id": "b027486f",
   "metadata": {},
   "outputs": [
    {
     "data": {
      "text/plain": [
       "array([[ 0.82889999,  1.77139637, -0.3175285 , ..., -0.97004291,\n",
       "         0.39483603, -0.64540635],\n",
       "       [-1.20526793,  1.1899273 , -0.3175285 , ..., -0.66408654,\n",
       "         0.70452884, -0.64540635],\n",
       "       [ 0.82889999, -0.95703543, -0.3175285 , ..., -0.24640975,\n",
       "         0.4851631 ,  2.01593669],\n",
       "       ...,\n",
       "       [-1.20526793, -0.42029475,  3.14932358, ..., -0.45617529,\n",
       "         0.4851631 , -0.64540635],\n",
       "       [-1.20526793, -1.00176382, -0.3175285 , ..., -0.88428241,\n",
       "        -0.572954  , -0.64540635],\n",
       "       [-1.20526793,  0.29535949,  3.14932358, ..., -0.57577641,\n",
       "         1.67231888, -0.64540635]])"
      ]
     },
     "execution_count": 55,
     "metadata": {},
     "output_type": "execute_result"
    }
   ],
   "source": [
    "X_test"
   ]
  },
  {
   "cell_type": "markdown",
   "id": "e8ee8c19",
   "metadata": {},
   "source": [
    "## SVM  Modelling "
   ]
  },
  {
   "cell_type": "code",
   "execution_count": 19,
   "id": "2badba99",
   "metadata": {},
   "outputs": [],
   "source": [
    "#SVC : Classifier. (datapoints near to the hyperplane its perpendicular distance is found and summed up for all points \n",
    "#and maximised known as Support Vector Classifiers)\n",
    "#Hyperplane seggregates into classes"
   ]
  },
  {
   "cell_type": "code",
   "execution_count": 20,
   "id": "77c41de3",
   "metadata": {},
   "outputs": [],
   "source": [
    "#Kernel Function is a method used to take data as input and transform it into the required form of processing data"
   ]
  },
  {
   "cell_type": "code",
   "execution_count": 21,
   "id": "3bf34857",
   "metadata": {},
   "outputs": [],
   "source": [
    "from sklearn.metrics import accuracy_score, roc_auc_score, log_loss\n",
    "from sklearn.svm import SVC\n",
    "\n",
    "kernels = ['linear', 'rbf', 'poly', 'sigmoid']\n",
    "i = 0\n",
    "accuracy_ = []\n",
    "log_loss_ = []\n",
    "roc_auc_scores = []\n",
    "\n",
    "for k in kernels:\n",
    "    # Define model parameters, and fit train data\n",
    "    svm_model = SVC(kernel=k, C=2, probability=True)  # Set probability=True to enable predict_proba()\n",
    "    svm_model.fit(X_train, y_train)\n",
    "    i += 1\n",
    "\n",
    "    # Predict labels for the testing set\n",
    "    y_pred = svm_model.predict(X_test)\n",
    "\n",
    "    # Calculate accuracy\n",
    "    acc = accuracy_score(y_test, y_pred)\n",
    "    accuracy_.append(acc)\n",
    "\n",
    "    # Calculate log loss\n",
    "    y_pred_prob = svm_model.predict_proba(X_test)[:, 1]  # Probabilities of the positive class\n",
    "    logloss = log_loss(y_test, y_pred_prob)\n",
    "    log_loss_.append(logloss)\n",
    "\n",
    "    # Calculate ROC AUC Scores\n",
    "    roc_auc = roc_auc_score(y_test, y_pred_prob)\n",
    "    roc_auc_scores.append(roc_auc)"
   ]
  },
  {
   "cell_type": "code",
   "execution_count": 22,
   "id": "0ced4cc9",
   "metadata": {},
   "outputs": [],
   "source": [
    "data_SVM = {\n",
    "    'Kernel': kernels,\n",
    "    'Accuracy': accuracy_,\n",
    "    'Log Loss': log_loss_,\n",
    "    'ROC_AUC_Score': roc_auc_scores\n",
    "}\n"
   ]
  },
  {
   "cell_type": "code",
   "execution_count": 23,
   "id": "c822f255",
   "metadata": {},
   "outputs": [
    {
     "data": {
      "text/html": [
       "<div>\n",
       "<style scoped>\n",
       "    .dataframe tbody tr th:only-of-type {\n",
       "        vertical-align: middle;\n",
       "    }\n",
       "\n",
       "    .dataframe tbody tr th {\n",
       "        vertical-align: top;\n",
       "    }\n",
       "\n",
       "    .dataframe thead th {\n",
       "        text-align: right;\n",
       "    }\n",
       "</style>\n",
       "<table border=\"1\" class=\"dataframe\">\n",
       "  <thead>\n",
       "    <tr style=\"text-align: right;\">\n",
       "      <th></th>\n",
       "      <th>Kernel</th>\n",
       "      <th>Accuracy</th>\n",
       "      <th>Log Loss</th>\n",
       "      <th>ROC_AUC_Score</th>\n",
       "    </tr>\n",
       "  </thead>\n",
       "  <tbody>\n",
       "    <tr>\n",
       "      <th>0</th>\n",
       "      <td>linear</td>\n",
       "      <td>0.984677</td>\n",
       "      <td>0.078559</td>\n",
       "      <td>0.681071</td>\n",
       "    </tr>\n",
       "    <tr>\n",
       "      <th>1</th>\n",
       "      <td>rbf</td>\n",
       "      <td>0.984677</td>\n",
       "      <td>0.079378</td>\n",
       "      <td>0.627406</td>\n",
       "    </tr>\n",
       "    <tr>\n",
       "      <th>2</th>\n",
       "      <td>poly</td>\n",
       "      <td>0.984677</td>\n",
       "      <td>0.085575</td>\n",
       "      <td>0.570521</td>\n",
       "    </tr>\n",
       "    <tr>\n",
       "      <th>3</th>\n",
       "      <td>sigmoid</td>\n",
       "      <td>0.968433</td>\n",
       "      <td>0.077052</td>\n",
       "      <td>0.593073</td>\n",
       "    </tr>\n",
       "  </tbody>\n",
       "</table>\n",
       "</div>"
      ],
      "text/plain": [
       "    Kernel  Accuracy  Log Loss  ROC_AUC_Score\n",
       "0   linear  0.984677  0.078559       0.681071\n",
       "1      rbf  0.984677  0.079378       0.627406\n",
       "2     poly  0.984677  0.085575       0.570521\n",
       "3  sigmoid  0.968433  0.077052       0.593073"
      ]
     },
     "execution_count": 23,
     "metadata": {},
     "output_type": "execute_result"
    }
   ],
   "source": [
    "SVM_Results = pd.DataFrame(data_SVM)\n",
    "SVM_Results"
   ]
  },
  {
   "cell_type": "code",
   "execution_count": 24,
   "id": "372f5ae9",
   "metadata": {},
   "outputs": [],
   "source": [
    "SVM_Results.to_csv(\"SVM Results.csv\",index=False)"
   ]
  },
  {
   "cell_type": "markdown",
   "id": "4c1a947d",
   "metadata": {},
   "source": [
    "# ROC AUC for Different SVM Kernels"
   ]
  },
  {
   "cell_type": "code",
   "execution_count": 32,
   "id": "7ac4e54b",
   "metadata": {},
   "outputs": [
    {
     "data": {
      "text/plain": [
       "SVC(C=2, kernel='linear', probability=True)"
      ]
     },
     "execution_count": 32,
     "metadata": {},
     "output_type": "execute_result"
    }
   ],
   "source": [
    "svm_best = SVC(kernel='linear', C=2, probability=True)  # Set probability=True to enable predict_proba()\n",
    "svm_best.fit(X_train, y_train)"
   ]
  },
  {
   "cell_type": "code",
   "execution_count": 35,
   "id": "2d4eb1ea",
   "metadata": {},
   "outputs": [],
   "source": [
    "y_probs = svm_best.predict_proba(X_test)[:, 1]\n",
    "fpr, tpr, _ = roc_curve(y_test, y_probs)\n",
    "roc_auc = auc(fpr, tpr)"
   ]
  },
  {
   "cell_type": "code",
   "execution_count": 40,
   "id": "9fab6049",
   "metadata": {
    "scrolled": true
   },
   "outputs": [
    {
     "data": {
      "image/png": "[encoded data removed]",
      "text/plain": [
       "<Figure size 1080x504 with 1 Axes>"
      ]
     },
     "metadata": {
      "needs_background": "light"
     },
     "output_type": "display_data"
    }
   ],
   "source": [
    "plt.figure(figsize=(15,7))\n",
    "plt.plot(fpr, tpr, marker = '.',color='blue',linestyle='--', label='ROC curve (area = %0.4f)' % roc_auc )\n",
    "plt.plot([0, 1], [0, 1], color='red', linestyle='--', label='Random Classifier')\n",
    "plt.fill_between(fpr, tpr, alpha=0.3)\n",
    "plt.xlabel('False Positive Rate', fontsize = \"20\")\n",
    "plt.ylabel('True Positive Rate', fontsize = \"20\")\n",
    "plt.legend(loc=\"lower right\", fontsize=\"20\")\n",
    "plt.xticks(fontsize=\"15\")\n",
    "plt.yticks(fontsize=\"15\")\n",
    "plt.show()"
   ]
  },
  {
   "cell_type": "markdown",
   "id": "3a21d9d7",
   "metadata": {},
   "source": [
    "# Comparison of Accuracy for Different SVM Kernels"
   ]
  },
  {
   "cell_type": "code",
   "execution_count": 28,
   "id": "be9dd0ab",
   "metadata": {},
   "outputs": [
    {
     "data": {
      "image/png": "[encoded data removed]",
      "text/plain": [
       "<Figure size 1008x504 with 1 Axes>"
      ]
     },
     "metadata": {
      "needs_background": "light"
     },
     "output_type": "display_data"
    }
   ],
   "source": [
    "# Plotting the comparison graph for Accuracy\n",
    "SVM_Results.plot(x=\"Kernel\", y=['Accuracy','Log Loss'], kind=\"bar\")\n",
    "plt.xlabel('Kernel')\n",
    "plt.ylabel('Estimations')\n",
    "plt.title('Comparison of Accuracy for Different SVM Kernels')\n",
    "plt.legend()\n",
    "plt.show()"
   ]
  },
  {
   "cell_type": "markdown",
   "id": "b8b04537",
   "metadata": {},
   "source": [
    "# Comparison of Log Loss for Different SVM Kernels"
   ]
  },
  {
   "cell_type": "code",
   "execution_count": 29,
   "id": "1b327351",
   "metadata": {},
   "outputs": [
    {
     "data": {
      "image/png": "[encoded data removed]",
      "text/plain": [
       "<Figure size 864x432 with 1 Axes>"
      ]
     },
     "metadata": {
      "needs_background": "light"
     },
     "output_type": "display_data"
    }
   ],
   "source": [
    "# Plotting the comparison graph for Log Loss\n",
    "fig, ax = plt.subplots(figsize=(12, 6))\n",
    "plt.step(kernels, log_loss_, marker='o', label='Log Loss', color='red', linestyle='dashed')\n",
    "plt.xlabel('Kernel')\n",
    "plt.ylabel('Log Loss')\n",
    "plt.title('Comparison of Log Loss for Different SVM Kernels')\n",
    "plt.legend()\n",
    "plt.show()"
   ]
  },
  {
   "cell_type": "code",
   "execution_count": 41,
   "id": "6e6474ce",
   "metadata": {},
   "outputs": [
    {
     "data": {
      "image/png": "[encoded data removed]",
      "text/plain": [
       "<Figure size 864x432 with 1 Axes>"
      ]
     },
     "metadata": {
      "needs_background": "light"
     },
     "output_type": "display_data"
    }
   ],
   "source": [
    "# Plotting the comparison graph for Log Loss\n",
    "fig, ax = plt.subplots(figsize=(12, 6))\n",
    "plt.step(kernels, accuracy_, marker='o', label='Log Loss', color='red', linestyle='dashed')\n",
    "plt.xlabel('Kernel')\n",
    "plt.ylabel('Log Loss')\n",
    "plt.title('Comparison of Log Loss for Different SVM Kernels')\n",
    "plt.legend()\n",
    "plt.show()"
   ]
  },
  {
   "cell_type": "code",
   "execution_count": 29,
   "id": "60f35ec5",
   "metadata": {},
   "outputs": [
    {
     "data": {
      "text/plain": [
       "<Figure size 432x288 with 0 Axes>"
      ]
     },
     "metadata": {},
     "output_type": "display_data"
    }
   ],
   "source": [
    "plt.savefig('Comparison_Accuracy.pdf', format='jpg')\n",
    "plt.savefig('Comparison_Log_Loss.pdf', format='jpg')"
   ]
  },
  {
   "cell_type": "code",
   "execution_count": 56,
   "id": "f1bee365",
   "metadata": {},
   "outputs": [],
   "source": [
    "k_degree = list(range(1,21))"
   ]
  },
  {
   "cell_type": "code",
   "execution_count": 57,
   "id": "18a40aad",
   "metadata": {},
   "outputs": [
    {
     "data": {
      "text/plain": [
       "[1, 2, 3, 4, 5, 6, 7, 8, 9, 10, 11, 12, 13, 14, 15, 16, 17, 18, 19, 20]"
      ]
     },
     "execution_count": 57,
     "metadata": {},
     "output_type": "execute_result"
    }
   ],
   "source": [
    "k_degree"
   ]
  },
  {
   "cell_type": "code",
   "execution_count": 58,
   "id": "060fc13c",
   "metadata": {},
   "outputs": [],
   "source": [
    "poly_kernel_acc = []"
   ]
  },
  {
   "cell_type": "code",
   "execution_count": 59,
   "id": "11499c4c",
   "metadata": {},
   "outputs": [],
   "source": [
    "for k in k_degree:\n",
    "    svm_pol = SVC(kernel='poly', degree=k, random_state=0)\n",
    "    scores = cross_val_score(svm_pol, X_train, y_train, cv=5, scoring='accuracy')\n",
    "    poly_kernel_acc.append(scores.mean())"
   ]
  },
  {
   "cell_type": "code",
   "execution_count": 60,
   "id": "8c70d8ea",
   "metadata": {},
   "outputs": [
    {
     "data": {
      "text/plain": [
       "[0.981278801843318,\n",
       " 0.981278801843318,\n",
       " 0.981278801843318,\n",
       " 0.9811059907834101,\n",
       " 0.9797523041474655,\n",
       " 0.978081797235023,\n",
       " 0.976094470046083,\n",
       " 0.9743663594470047,\n",
       " 0.9726382488479264,\n",
       " 0.9710541474654377,\n",
       " 0.9698732718894009,\n",
       " 0.9700460829493087,\n",
       " 0.9696716589861751,\n",
       " 0.9685195852534563,\n",
       " 0.9678571428571429,\n",
       " 0.9669930875576037,\n",
       " 0.966733870967742,\n",
       " 0.9663594470046084,\n",
       " 0.965754608294931,\n",
       " 0.9649769585253456]"
      ]
     },
     "execution_count": 60,
     "metadata": {},
     "output_type": "execute_result"
    }
   ],
   "source": [
    "poly_kernel_acc"
   ]
  },
  {
   "cell_type": "code",
   "execution_count": 73,
   "id": "7bc38227",
   "metadata": {},
   "outputs": [],
   "source": [
    "for i in range(20):\n",
    "    poly_kernel_acc[i] *= 100\n",
    "    poly_kernel_acc[i] = round(poly_kernel_acc[i],4)"
   ]
  },
  {
   "cell_type": "code",
   "execution_count": 74,
   "id": "9c6fce57",
   "metadata": {},
   "outputs": [
    {
     "data": {
      "text/plain": [
       "[98.1279,\n",
       " 98.1279,\n",
       " 98.1279,\n",
       " 98.1106,\n",
       " 97.9752,\n",
       " 97.8082,\n",
       " 97.6094,\n",
       " 97.4366,\n",
       " 97.2638,\n",
       " 97.1054,\n",
       " 96.9873,\n",
       " 97.0046,\n",
       " 96.9672,\n",
       " 96.852,\n",
       " 96.7857,\n",
       " 96.6993,\n",
       " 96.6734,\n",
       " 96.6359,\n",
       " 96.5755,\n",
       " 96.4977]"
      ]
     },
     "execution_count": 74,
     "metadata": {},
     "output_type": "execute_result"
    }
   ],
   "source": [
    "poly_kernel_acc"
   ]
  },
  {
   "cell_type": "code",
   "execution_count": 103,
   "id": "cf1b5c74",
   "metadata": {},
   "outputs": [
    {
     "data": {
      "image/png": "[encoded data removed]",
      "text/plain": [
       "<Figure size 720x432 with 1 Axes>"
      ]
     },
     "metadata": {},
     "output_type": "display_data"
    }
   ],
   "source": [
    "sns.set_style(\"whitegrid\")\n",
    "plt.figure(figsize=(10, 6))\n",
    "sns.lineplot(x=k_degree, y=poly_kernel_acc, marker='o', markersize=7, color='red', linestyle = '--')\n",
    "plt.title('Polynomial Kernel Analysis',fontsize=18)\n",
    "plt.ylabel('Cross Val Score',fontsize=16)\n",
    "plt.xlabel('Degree of Polynomial (k)',fontsize=16)\n",
    "plt.xticks(k_degree,fontsize=14)\n",
    "plt.yticks(fontsize=14)\n",
    "plt.show()"
   ]
  },
  {
   "cell_type": "code",
   "execution_count": null,
   "id": "d7ff365b",
   "metadata": {},
   "outputs": [],
   "source": []
  }
 ],
 "metadata": {
  "kernelspec": {
   "display_name": "Python 3 (ipykernel)",
   "language": "python",
   "name": "python3"
  },
  "language_info": {
   "codemirror_mode": {
    "name": "ipython",
    "version": 3
   },
   "file_extension": ".py",
   "mimetype": "text/x-python",
   "name": "python",
   "nbconvert_exporter": "python",
   "pygments_lexer": "ipython3",
   "version": "3.9.12"
  }
 },
 "nbformat": 4,
 "nbformat_minor": 5
}
