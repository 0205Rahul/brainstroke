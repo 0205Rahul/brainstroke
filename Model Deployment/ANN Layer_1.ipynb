{
 "cells": [
  {
   "cell_type": "markdown",
   "metadata": {
    "pycharm": {
     "is_executing": true
    }
   },
   "source": [
    "# Load Dataset"
   ]
  },
  {
   "cell_type": "code",
   "execution_count": 1,
   "metadata": {},
   "outputs": [],
   "source": [
    "import matplotlib.pyplot as plt\n",
    "import seaborn as sns"
   ]
  },
  {
   "cell_type": "code",
   "execution_count": 2,
   "metadata": {
    "pycharm": {
     "is_executing": true
    }
   },
   "outputs": [
    {
     "data": {
      "text/html": [
       "<div>\n",
       "<style scoped>\n",
       "    .dataframe tbody tr th:only-of-type {\n",
       "        vertical-align: middle;\n",
       "    }\n",
       "\n",
       "    .dataframe tbody tr th {\n",
       "        vertical-align: top;\n",
       "    }\n",
       "\n",
       "    .dataframe thead th {\n",
       "        text-align: right;\n",
       "    }\n",
       "</style>\n",
       "<table border=\"1\" class=\"dataframe\">\n",
       "  <thead>\n",
       "    <tr style=\"text-align: right;\">\n",
       "      <th></th>\n",
       "      <th>Gender Index</th>\n",
       "      <th>Age</th>\n",
       "      <th>Hypertension</th>\n",
       "      <th>Heart Disease</th>\n",
       "      <th>Martial Status</th>\n",
       "      <th>Work Type Index</th>\n",
       "      <th>Residence Type</th>\n",
       "      <th>Average Glucose Level</th>\n",
       "      <th>BMI</th>\n",
       "      <th>Smoking Status Index</th>\n",
       "      <th>Stroke</th>\n",
       "    </tr>\n",
       "  </thead>\n",
       "  <tbody>\n",
       "    <tr>\n",
       "      <th>0</th>\n",
       "      <td>0</td>\n",
       "      <td>3.0</td>\n",
       "      <td>0</td>\n",
       "      <td>0</td>\n",
       "      <td>0</td>\n",
       "      <td>0</td>\n",
       "      <td>0</td>\n",
       "      <td>95.12</td>\n",
       "      <td>18.0</td>\n",
       "      <td>0</td>\n",
       "      <td>0</td>\n",
       "    </tr>\n",
       "    <tr>\n",
       "      <th>1</th>\n",
       "      <td>0</td>\n",
       "      <td>58.0</td>\n",
       "      <td>1</td>\n",
       "      <td>0</td>\n",
       "      <td>1</td>\n",
       "      <td>2</td>\n",
       "      <td>1</td>\n",
       "      <td>87.96</td>\n",
       "      <td>39.2</td>\n",
       "      <td>0</td>\n",
       "      <td>0</td>\n",
       "    </tr>\n",
       "    <tr>\n",
       "      <th>2</th>\n",
       "      <td>1</td>\n",
       "      <td>8.0</td>\n",
       "      <td>0</td>\n",
       "      <td>0</td>\n",
       "      <td>0</td>\n",
       "      <td>2</td>\n",
       "      <td>1</td>\n",
       "      <td>110.89</td>\n",
       "      <td>17.6</td>\n",
       "      <td>0</td>\n",
       "      <td>0</td>\n",
       "    </tr>\n",
       "    <tr>\n",
       "      <th>3</th>\n",
       "      <td>1</td>\n",
       "      <td>70.0</td>\n",
       "      <td>0</td>\n",
       "      <td>0</td>\n",
       "      <td>1</td>\n",
       "      <td>2</td>\n",
       "      <td>0</td>\n",
       "      <td>69.04</td>\n",
       "      <td>35.9</td>\n",
       "      <td>1</td>\n",
       "      <td>0</td>\n",
       "    </tr>\n",
       "    <tr>\n",
       "      <th>4</th>\n",
       "      <td>1</td>\n",
       "      <td>47.0</td>\n",
       "      <td>0</td>\n",
       "      <td>0</td>\n",
       "      <td>1</td>\n",
       "      <td>2</td>\n",
       "      <td>1</td>\n",
       "      <td>210.95</td>\n",
       "      <td>50.1</td>\n",
       "      <td>0</td>\n",
       "      <td>0</td>\n",
       "    </tr>\n",
       "    <tr>\n",
       "      <th>...</th>\n",
       "      <td>...</td>\n",
       "      <td>...</td>\n",
       "      <td>...</td>\n",
       "      <td>...</td>\n",
       "      <td>...</td>\n",
       "      <td>...</td>\n",
       "      <td>...</td>\n",
       "      <td>...</td>\n",
       "      <td>...</td>\n",
       "      <td>...</td>\n",
       "      <td>...</td>\n",
       "    </tr>\n",
       "    <tr>\n",
       "      <th>43395</th>\n",
       "      <td>1</td>\n",
       "      <td>10.0</td>\n",
       "      <td>0</td>\n",
       "      <td>0</td>\n",
       "      <td>0</td>\n",
       "      <td>0</td>\n",
       "      <td>1</td>\n",
       "      <td>58.64</td>\n",
       "      <td>20.4</td>\n",
       "      <td>0</td>\n",
       "      <td>0</td>\n",
       "    </tr>\n",
       "    <tr>\n",
       "      <th>43396</th>\n",
       "      <td>1</td>\n",
       "      <td>56.0</td>\n",
       "      <td>0</td>\n",
       "      <td>0</td>\n",
       "      <td>1</td>\n",
       "      <td>4</td>\n",
       "      <td>1</td>\n",
       "      <td>213.61</td>\n",
       "      <td>55.4</td>\n",
       "      <td>1</td>\n",
       "      <td>0</td>\n",
       "    </tr>\n",
       "    <tr>\n",
       "      <th>43397</th>\n",
       "      <td>1</td>\n",
       "      <td>82.0</td>\n",
       "      <td>1</td>\n",
       "      <td>0</td>\n",
       "      <td>1</td>\n",
       "      <td>2</td>\n",
       "      <td>1</td>\n",
       "      <td>91.94</td>\n",
       "      <td>28.9</td>\n",
       "      <td>1</td>\n",
       "      <td>0</td>\n",
       "    </tr>\n",
       "    <tr>\n",
       "      <th>43398</th>\n",
       "      <td>0</td>\n",
       "      <td>40.0</td>\n",
       "      <td>0</td>\n",
       "      <td>0</td>\n",
       "      <td>1</td>\n",
       "      <td>2</td>\n",
       "      <td>1</td>\n",
       "      <td>99.16</td>\n",
       "      <td>33.2</td>\n",
       "      <td>0</td>\n",
       "      <td>0</td>\n",
       "    </tr>\n",
       "    <tr>\n",
       "      <th>43399</th>\n",
       "      <td>1</td>\n",
       "      <td>82.0</td>\n",
       "      <td>0</td>\n",
       "      <td>0</td>\n",
       "      <td>1</td>\n",
       "      <td>2</td>\n",
       "      <td>1</td>\n",
       "      <td>79.48</td>\n",
       "      <td>20.6</td>\n",
       "      <td>0</td>\n",
       "      <td>0</td>\n",
       "    </tr>\n",
       "  </tbody>\n",
       "</table>\n",
       "<p>43400 rows × 11 columns</p>\n",
       "</div>"
      ],
      "text/plain": [
       "       Gender Index   Age  Hypertension  Heart Disease  Martial Status  \\\n",
       "0                 0   3.0             0              0               0   \n",
       "1                 0  58.0             1              0               1   \n",
       "2                 1   8.0             0              0               0   \n",
       "3                 1  70.0             0              0               1   \n",
       "4                 1  47.0             0              0               1   \n",
       "...             ...   ...           ...            ...             ...   \n",
       "43395             1  10.0             0              0               0   \n",
       "43396             1  56.0             0              0               1   \n",
       "43397             1  82.0             1              0               1   \n",
       "43398             0  40.0             0              0               1   \n",
       "43399             1  82.0             0              0               1   \n",
       "\n",
       "       Work Type Index  Residence Type  Average Glucose Level   BMI  \\\n",
       "0                    0               0                  95.12  18.0   \n",
       "1                    2               1                  87.96  39.2   \n",
       "2                    2               1                 110.89  17.6   \n",
       "3                    2               0                  69.04  35.9   \n",
       "4                    2               1                 210.95  50.1   \n",
       "...                ...             ...                    ...   ...   \n",
       "43395                0               1                  58.64  20.4   \n",
       "43396                4               1                 213.61  55.4   \n",
       "43397                2               1                  91.94  28.9   \n",
       "43398                2               1                  99.16  33.2   \n",
       "43399                2               1                  79.48  20.6   \n",
       "\n",
       "       Smoking Status Index  Stroke  \n",
       "0                         0       0  \n",
       "1                         0       0  \n",
       "2                         0       0  \n",
       "3                         1       0  \n",
       "4                         0       0  \n",
       "...                     ...     ...  \n",
       "43395                     0       0  \n",
       "43396                     1       0  \n",
       "43397                     1       0  \n",
       "43398                     0       0  \n",
       "43399                     0       0  \n",
       "\n",
       "[43400 rows x 11 columns]"
      ]
     },
     "execution_count": 2,
     "metadata": {},
     "output_type": "execute_result"
    }
   ],
   "source": [
    "import pandas as pd\n",
    "df = pd.read_excel(r\"Datasets/usefile.xlsx\")\n",
    "df"
   ]
  },
  {
   "cell_type": "code",
   "execution_count": 3,
   "metadata": {},
   "outputs": [
    {
     "data": {
      "text/plain": [
       "<AxesSubplot:>"
      ]
     },
     "execution_count": 3,
     "metadata": {},
     "output_type": "execute_result"
    },
    {
     "data": {
      "image/png": "[encoded data removed]",
      "text/plain": [
       "<Figure size 1440x720 with 2 Axes>"
      ]
     },
     "metadata": {
      "needs_background": "light"
     },
     "output_type": "display_data"
    }
   ],
   "source": [
    "plt.rcParams['figure.figsize'] = (20,10)\n",
    "sns.heatmap(data=df.corr(),annot=True,fmt='.2f',cmap='Blues')"
   ]
  },
  {
   "cell_type": "code",
   "execution_count": 4,
   "metadata": {},
   "outputs": [
    {
     "data": {
      "text/plain": [
       "(43400, 11)"
      ]
     },
     "execution_count": 4,
     "metadata": {},
     "output_type": "execute_result"
    }
   ],
   "source": [
    "df.shape"
   ]
  },
  {
   "cell_type": "code",
   "execution_count": 5,
   "metadata": {},
   "outputs": [
    {
     "data": {
      "text/html": [
       "<div>\n",
       "<style scoped>\n",
       "    .dataframe tbody tr th:only-of-type {\n",
       "        vertical-align: middle;\n",
       "    }\n",
       "\n",
       "    .dataframe tbody tr th {\n",
       "        vertical-align: top;\n",
       "    }\n",
       "\n",
       "    .dataframe thead th {\n",
       "        text-align: right;\n",
       "    }\n",
       "</style>\n",
       "<table border=\"1\" class=\"dataframe\">\n",
       "  <thead>\n",
       "    <tr style=\"text-align: right;\">\n",
       "      <th></th>\n",
       "      <th>Gender Index</th>\n",
       "      <th>Age</th>\n",
       "      <th>Hypertension</th>\n",
       "      <th>Heart Disease</th>\n",
       "      <th>Martial Status</th>\n",
       "      <th>Work Type Index</th>\n",
       "      <th>Residence Type</th>\n",
       "      <th>Average Glucose Level</th>\n",
       "      <th>BMI</th>\n",
       "      <th>Smoking Status Index</th>\n",
       "      <th>Stroke</th>\n",
       "    </tr>\n",
       "  </thead>\n",
       "  <tbody>\n",
       "    <tr>\n",
       "      <th>0</th>\n",
       "      <td>0</td>\n",
       "      <td>3.0</td>\n",
       "      <td>0</td>\n",
       "      <td>0</td>\n",
       "      <td>0</td>\n",
       "      <td>0</td>\n",
       "      <td>0</td>\n",
       "      <td>95.12</td>\n",
       "      <td>18.0</td>\n",
       "      <td>0</td>\n",
       "      <td>0</td>\n",
       "    </tr>\n",
       "    <tr>\n",
       "      <th>1</th>\n",
       "      <td>0</td>\n",
       "      <td>58.0</td>\n",
       "      <td>1</td>\n",
       "      <td>0</td>\n",
       "      <td>1</td>\n",
       "      <td>2</td>\n",
       "      <td>1</td>\n",
       "      <td>87.96</td>\n",
       "      <td>39.2</td>\n",
       "      <td>0</td>\n",
       "      <td>0</td>\n",
       "    </tr>\n",
       "    <tr>\n",
       "      <th>2</th>\n",
       "      <td>1</td>\n",
       "      <td>8.0</td>\n",
       "      <td>0</td>\n",
       "      <td>0</td>\n",
       "      <td>0</td>\n",
       "      <td>2</td>\n",
       "      <td>1</td>\n",
       "      <td>110.89</td>\n",
       "      <td>17.6</td>\n",
       "      <td>0</td>\n",
       "      <td>0</td>\n",
       "    </tr>\n",
       "    <tr>\n",
       "      <th>3</th>\n",
       "      <td>1</td>\n",
       "      <td>70.0</td>\n",
       "      <td>0</td>\n",
       "      <td>0</td>\n",
       "      <td>1</td>\n",
       "      <td>2</td>\n",
       "      <td>0</td>\n",
       "      <td>69.04</td>\n",
       "      <td>35.9</td>\n",
       "      <td>1</td>\n",
       "      <td>0</td>\n",
       "    </tr>\n",
       "    <tr>\n",
       "      <th>4</th>\n",
       "      <td>1</td>\n",
       "      <td>47.0</td>\n",
       "      <td>0</td>\n",
       "      <td>0</td>\n",
       "      <td>1</td>\n",
       "      <td>2</td>\n",
       "      <td>1</td>\n",
       "      <td>210.95</td>\n",
       "      <td>50.1</td>\n",
       "      <td>0</td>\n",
       "      <td>0</td>\n",
       "    </tr>\n",
       "    <tr>\n",
       "      <th>5</th>\n",
       "      <td>0</td>\n",
       "      <td>14.0</td>\n",
       "      <td>0</td>\n",
       "      <td>0</td>\n",
       "      <td>0</td>\n",
       "      <td>1</td>\n",
       "      <td>0</td>\n",
       "      <td>161.28</td>\n",
       "      <td>19.1</td>\n",
       "      <td>0</td>\n",
       "      <td>0</td>\n",
       "    </tr>\n",
       "    <tr>\n",
       "      <th>6</th>\n",
       "      <td>1</td>\n",
       "      <td>52.0</td>\n",
       "      <td>0</td>\n",
       "      <td>0</td>\n",
       "      <td>1</td>\n",
       "      <td>2</td>\n",
       "      <td>1</td>\n",
       "      <td>77.59</td>\n",
       "      <td>17.7</td>\n",
       "      <td>1</td>\n",
       "      <td>0</td>\n",
       "    </tr>\n",
       "    <tr>\n",
       "      <th>7</th>\n",
       "      <td>1</td>\n",
       "      <td>75.0</td>\n",
       "      <td>0</td>\n",
       "      <td>1</td>\n",
       "      <td>1</td>\n",
       "      <td>3</td>\n",
       "      <td>0</td>\n",
       "      <td>243.53</td>\n",
       "      <td>27.0</td>\n",
       "      <td>0</td>\n",
       "      <td>0</td>\n",
       "    </tr>\n",
       "    <tr>\n",
       "      <th>8</th>\n",
       "      <td>1</td>\n",
       "      <td>32.0</td>\n",
       "      <td>0</td>\n",
       "      <td>0</td>\n",
       "      <td>1</td>\n",
       "      <td>2</td>\n",
       "      <td>0</td>\n",
       "      <td>77.67</td>\n",
       "      <td>32.3</td>\n",
       "      <td>2</td>\n",
       "      <td>0</td>\n",
       "    </tr>\n",
       "    <tr>\n",
       "      <th>9</th>\n",
       "      <td>1</td>\n",
       "      <td>74.0</td>\n",
       "      <td>1</td>\n",
       "      <td>0</td>\n",
       "      <td>1</td>\n",
       "      <td>3</td>\n",
       "      <td>1</td>\n",
       "      <td>205.84</td>\n",
       "      <td>54.6</td>\n",
       "      <td>0</td>\n",
       "      <td>0</td>\n",
       "    </tr>\n",
       "  </tbody>\n",
       "</table>\n",
       "</div>"
      ],
      "text/plain": [
       "   Gender Index   Age  Hypertension  Heart Disease  Martial Status  \\\n",
       "0             0   3.0             0              0               0   \n",
       "1             0  58.0             1              0               1   \n",
       "2             1   8.0             0              0               0   \n",
       "3             1  70.0             0              0               1   \n",
       "4             1  47.0             0              0               1   \n",
       "5             0  14.0             0              0               0   \n",
       "6             1  52.0             0              0               1   \n",
       "7             1  75.0             0              1               1   \n",
       "8             1  32.0             0              0               1   \n",
       "9             1  74.0             1              0               1   \n",
       "\n",
       "   Work Type Index  Residence Type  Average Glucose Level   BMI  \\\n",
       "0                0               0                  95.12  18.0   \n",
       "1                2               1                  87.96  39.2   \n",
       "2                2               1                 110.89  17.6   \n",
       "3                2               0                  69.04  35.9   \n",
       "4                2               1                 210.95  50.1   \n",
       "5                1               0                 161.28  19.1   \n",
       "6                2               1                  77.59  17.7   \n",
       "7                3               0                 243.53  27.0   \n",
       "8                2               0                  77.67  32.3   \n",
       "9                3               1                 205.84  54.6   \n",
       "\n",
       "   Smoking Status Index  Stroke  \n",
       "0                     0       0  \n",
       "1                     0       0  \n",
       "2                     0       0  \n",
       "3                     1       0  \n",
       "4                     0       0  \n",
       "5                     0       0  \n",
       "6                     1       0  \n",
       "7                     0       0  \n",
       "8                     2       0  \n",
       "9                     0       0  "
      ]
     },
     "execution_count": 5,
     "metadata": {},
     "output_type": "execute_result"
    }
   ],
   "source": [
    "df.head(10)"
   ]
  },
  {
   "cell_type": "code",
   "execution_count": 6,
   "metadata": {},
   "outputs": [],
   "source": [
    "X = df.drop('Stroke',axis=1)\n",
    "y = df['Stroke']"
   ]
  },
  {
   "cell_type": "markdown",
   "metadata": {},
   "source": [
    "# _Spliting the dataset into train and test dataset_"
   ]
  },
  {
   "cell_type": "code",
   "execution_count": 7,
   "metadata": {},
   "outputs": [],
   "source": [
    "from sklearn.model_selection import train_test_split"
   ]
  },
  {
   "cell_type": "code",
   "execution_count": 8,
   "metadata": {},
   "outputs": [],
   "source": [
    "X_train, X_test, y_train, y_test = train_test_split(X, y, test_size = 0.2, random_state = 0)"
   ]
  },
  {
   "cell_type": "markdown",
   "metadata": {},
   "source": [
    "# Feature Scaling"
   ]
  },
  {
   "cell_type": "code",
   "execution_count": 9,
   "metadata": {},
   "outputs": [],
   "source": [
    "from sklearn.preprocessing import StandardScaler"
   ]
  },
  {
   "cell_type": "code",
   "execution_count": 10,
   "metadata": {},
   "outputs": [],
   "source": [
    "scaler = StandardScaler()\n",
    "X_train = scaler.fit_transform(X_train)\n",
    "X_test = scaler.fit_transform(X_test)"
   ]
  },
  {
   "cell_type": "code",
   "execution_count": 11,
   "metadata": {},
   "outputs": [
    {
     "data": {
      "text/plain": [
       "array([[ 0.82969259,  1.32213599, -0.3222331 , ..., -0.71882026,\n",
       "        -0.6875417 ,  0.71218423],\n",
       "       [ 0.82969259, -0.93854822, -0.3222331 , ..., -0.39099967,\n",
       "        -1.41014335, -0.63806076],\n",
       "       [-1.20239874,  1.5437717 , -0.3222331 , ..., -0.90813491,\n",
       "        -0.10946038,  0.71218423],\n",
       "       ...,\n",
       "       [ 0.82969259,  1.76540741, -0.3222331 , ..., -1.04803287,\n",
       "        -0.63498885,  0.71218423],\n",
       "       [-1.20239874,  0.56857459, -0.3222331 , ..., -0.03255466,\n",
       "         1.19122259, -0.63806076],\n",
       "       [ 0.82969259,  1.36646313,  3.10334351, ..., -0.85895022,\n",
       "         0.56058843,  0.71218423]])"
      ]
     },
     "execution_count": 11,
     "metadata": {},
     "output_type": "execute_result"
    }
   ],
   "source": [
    "X_train"
   ]
  },
  {
   "cell_type": "code",
   "execution_count": 12,
   "metadata": {},
   "outputs": [
    {
     "data": {
      "text/plain": [
       "array([[ 0.82889999,  1.77139637, -0.3175285 , ..., -0.97004291,\n",
       "         0.39483603, -0.64540635],\n",
       "       [-1.20526793,  1.1899273 , -0.3175285 , ..., -0.66408654,\n",
       "         0.70452884, -0.64540635],\n",
       "       [ 0.82889999, -0.95703543, -0.3175285 , ..., -0.24640975,\n",
       "         0.4851631 ,  2.01593669],\n",
       "       ...,\n",
       "       [-1.20526793, -0.42029475,  3.14932358, ..., -0.45617529,\n",
       "         0.4851631 , -0.64540635],\n",
       "       [-1.20526793, -1.00176382, -0.3175285 , ..., -0.88428241,\n",
       "        -0.572954  , -0.64540635],\n",
       "       [-1.20526793,  0.29535949,  3.14932358, ..., -0.57577641,\n",
       "         1.67231888, -0.64540635]])"
      ]
     },
     "execution_count": 12,
     "metadata": {},
     "output_type": "execute_result"
    }
   ],
   "source": [
    "X_test"
   ]
  },
  {
   "cell_type": "code",
   "execution_count": 13,
   "metadata": {},
   "outputs": [],
   "source": [
    "from sklearn.metrics import confusion_matrix, roc_auc_score, roc_curve, auc\n",
    "from sklearn.metrics import ConfusionMatrixDisplay"
   ]
  },
  {
   "cell_type": "markdown",
   "metadata": {},
   "source": [
    "# Initializing ANN"
   ]
  },
  {
   "cell_type": "code",
   "execution_count": 14,
   "metadata": {},
   "outputs": [],
   "source": [
    "from keras.models import Sequential\n",
    "from keras.layers import Dense, Dropout\n",
    "from keras.callbacks import EarlyStopping\n",
    "from keras.metrics import AUC"
   ]
  },
  {
   "cell_type": "code",
   "execution_count": 15,
   "metadata": {},
   "outputs": [],
   "source": [
    "#10 - 16 - 16 - 1\n",
    "ann_model = Sequential()\n",
    "\n",
    "#1st Hidden Layer\n",
    "ann_model.add(Dense(16, kernel_initializer='uniform', activation='relu', input_dim = 10))\n",
    "ann_model.add(Dropout(rate=0.2))\n",
    "\n",
    "#2nd Hidden Layer\n",
    "ann_model.add(Dense(16, kernel_initializer='uniform', activation='relu'))\n",
    "ann_model.add(Dropout(rate=0.2))\n",
    "\n",
    "#Output Layer\n",
    "ann_model.add(Dense(1, kernel_initializer='uniform', activation='sigmoid'))"
   ]
  },
  {
   "cell_type": "markdown",
   "metadata": {},
   "source": [
    "Compile the model"
   ]
  },
  {
   "cell_type": "code",
   "execution_count": 1,
   "metadata": {},
   "outputs": [
    {
     "ename": "NameError",
     "evalue": "name 'ann_model' is not defined",
     "output_type": "error",
     "traceback": [
      "\u001b[1;31m---------------------------------------------------------------------------\u001b[0m",
      "\u001b[1;31mNameError\u001b[0m                                 Traceback (most recent call last)",
      "Input \u001b[1;32mIn [1]\u001b[0m, in \u001b[0;36m<cell line: 1>\u001b[1;34m()\u001b[0m\n\u001b[1;32m----> 1\u001b[0m \u001b[43mann_model\u001b[49m\u001b[38;5;241m.\u001b[39mcompile(optimizer\u001b[38;5;241m=\u001b[39m\u001b[38;5;124m'\u001b[39m\u001b[38;5;124madam\u001b[39m\u001b[38;5;124m'\u001b[39m, loss\u001b[38;5;241m=\u001b[39m\u001b[38;5;124m'\u001b[39m\u001b[38;5;124mbinary_crossentropy\u001b[39m\u001b[38;5;124m'\u001b[39m, metrics\u001b[38;5;241m=\u001b[39m[\u001b[38;5;124m'\u001b[39m\u001b[38;5;124maccuracy\u001b[39m\u001b[38;5;124m'\u001b[39m,\u001b[38;5;124m'\u001b[39m\u001b[38;5;124mAUC\u001b[39m\u001b[38;5;124m'\u001b[39m])\n",
      "\u001b[1;31mNameError\u001b[0m: name 'ann_model' is not defined"
     ]
    }
   ],
   "source": [
    "ann_model.compile(optimizer='sgd', loss='binary_crossentropy', metrics=['accuracy','AUC'])"
   ]
  },
  {
   "cell_type": "markdown",
   "metadata": {},
   "source": [
    "Train the model"
   ]
  },
  {
   "cell_type": "code",
   "execution_count": 138,
   "metadata": {},
   "outputs": [
    {
     "name": "stdout",
     "output_type": "stream",
     "text": [
      "Epoch 1/150\n",
      "278/278 [==============================] - 1s 3ms/step - loss: 0.4782 - accuracy: 0.9781 - auc: 0.4981 - val_loss: 0.3340 - val_accuracy: 0.9830 - val_auc: 0.4978\n",
      "Epoch 2/150\n",
      "278/278 [==============================] - 1s 2ms/step - loss: 0.2699 - accuracy: 0.9808 - auc: 0.5109 - val_loss: 0.2177 - val_accuracy: 0.9830 - val_auc: 0.5000\n",
      "Epoch 3/150\n",
      "278/278 [==============================] - 1s 2ms/step - loss: 0.1931 - accuracy: 0.9808 - auc: 0.5092 - val_loss: 0.1665 - val_accuracy: 0.9830 - val_auc: 0.5000\n",
      "Epoch 4/150\n",
      "278/278 [==============================] - 1s 2ms/step - loss: 0.1562 - accuracy: 0.9808 - auc: 0.4970 - val_loss: 0.1392 - val_accuracy: 0.9830 - val_auc: 0.4717\n",
      "Epoch 5/150\n",
      "278/278 [==============================] - 1s 2ms/step - loss: 0.1356 - accuracy: 0.9808 - auc: 0.5007 - val_loss: 0.1228 - val_accuracy: 0.9830 - val_auc: 0.5000\n",
      "Epoch 6/150\n",
      "278/278 [==============================] - 1s 2ms/step - loss: 0.1228 - accuracy: 0.9808 - auc: 0.4957 - val_loss: 0.1123 - val_accuracy: 0.9830 - val_auc: 0.5000\n",
      "Epoch 7/150\n",
      "278/278 [==============================] - 0s 2ms/step - loss: 0.1146 - accuracy: 0.9808 - auc: 0.4955 - val_loss: 0.1052 - val_accuracy: 0.9830 - val_auc: 0.4461\n",
      "Epoch 8/150\n",
      "278/278 [==============================] - 0s 2ms/step - loss: 0.1091 - accuracy: 0.9808 - auc: 0.4717 - val_loss: 0.1002 - val_accuracy: 0.9830 - val_auc: 0.5000\n",
      "Epoch 9/150\n",
      "278/278 [==============================] - 1s 2ms/step - loss: 0.1051 - accuracy: 0.9808 - auc: 0.4914 - val_loss: 0.0967 - val_accuracy: 0.9830 - val_auc: 0.5000\n",
      "Epoch 10/150\n",
      "278/278 [==============================] - 1s 2ms/step - loss: 0.1025 - accuracy: 0.9808 - auc: 0.4907 - val_loss: 0.0942 - val_accuracy: 0.9830 - val_auc: 0.5000\n",
      "Epoch 11/150\n",
      "278/278 [==============================] - 1s 2ms/step - loss: 0.1005 - accuracy: 0.9808 - auc: 0.5002 - val_loss: 0.0923 - val_accuracy: 0.9830 - val_auc: 0.5193\n",
      "Epoch 12/150\n",
      "278/278 [==============================] - 1s 2ms/step - loss: 0.0988 - accuracy: 0.9808 - auc: 0.5311 - val_loss: 0.0909 - val_accuracy: 0.9830 - val_auc: 0.5000\n",
      "Epoch 13/150\n",
      "278/278 [==============================] - 0s 2ms/step - loss: 0.0981 - accuracy: 0.9808 - auc: 0.5043 - val_loss: 0.0898 - val_accuracy: 0.9830 - val_auc: 0.5100\n",
      "Epoch 14/150\n",
      "278/278 [==============================] - 1s 2ms/step - loss: 0.0973 - accuracy: 0.9808 - auc: 0.4998 - val_loss: 0.0890 - val_accuracy: 0.9830 - val_auc: 0.5000\n",
      "Epoch 15/150\n",
      "278/278 [==============================] - 1s 2ms/step - loss: 0.0967 - accuracy: 0.9808 - auc: 0.5100 - val_loss: 0.0884 - val_accuracy: 0.9830 - val_auc: 0.5000\n",
      "Epoch 16/150\n",
      "278/278 [==============================] - 1s 2ms/step - loss: 0.0962 - accuracy: 0.9808 - auc: 0.5096 - val_loss: 0.0879 - val_accuracy: 0.9830 - val_auc: 0.5000\n",
      "Epoch 17/150\n",
      "278/278 [==============================] - 1s 2ms/step - loss: 0.0959 - accuracy: 0.9808 - auc: 0.4964 - val_loss: 0.0875 - val_accuracy: 0.9830 - val_auc: 0.6246\n",
      "Epoch 18/150\n",
      "278/278 [==============================] - 1s 2ms/step - loss: 0.0957 - accuracy: 0.9808 - auc: 0.5012 - val_loss: 0.0872 - val_accuracy: 0.9830 - val_auc: 0.5257\n",
      "Epoch 19/150\n",
      "278/278 [==============================] - 1s 2ms/step - loss: 0.0955 - accuracy: 0.9808 - auc: 0.5318 - val_loss: 0.0870 - val_accuracy: 0.9830 - val_auc: 0.5000\n",
      "Epoch 20/150\n",
      "278/278 [==============================] - 1s 2ms/step - loss: 0.0954 - accuracy: 0.9808 - auc: 0.5332 - val_loss: 0.0867 - val_accuracy: 0.9830 - val_auc: 0.5000\n",
      "Epoch 21/150\n",
      "278/278 [==============================] - 1s 2ms/step - loss: 0.0952 - accuracy: 0.9808 - auc: 0.5250 - val_loss: 0.0866 - val_accuracy: 0.9830 - val_auc: 0.5000\n",
      "Epoch 22/150\n",
      "278/278 [==============================] - 1s 2ms/step - loss: 0.0952 - accuracy: 0.9808 - auc: 0.5100 - val_loss: 0.0864 - val_accuracy: 0.9830 - val_auc: 0.5000\n",
      "Epoch 23/150\n",
      "278/278 [==============================] - 1s 2ms/step - loss: 0.0949 - accuracy: 0.9808 - auc: 0.5252 - val_loss: 0.0863 - val_accuracy: 0.9830 - val_auc: 0.5000\n",
      "Epoch 24/150\n",
      "278/278 [==============================] - 1s 2ms/step - loss: 0.0948 - accuracy: 0.9808 - auc: 0.5162 - val_loss: 0.0861 - val_accuracy: 0.9830 - val_auc: 0.5180\n",
      "Epoch 25/150\n",
      "278/278 [==============================] - 1s 2ms/step - loss: 0.0947 - accuracy: 0.9808 - auc: 0.5233 - val_loss: 0.0860 - val_accuracy: 0.9830 - val_auc: 0.5699\n",
      "Epoch 26/150\n",
      "278/278 [==============================] - 1s 2ms/step - loss: 0.0944 - accuracy: 0.9808 - auc: 0.5382 - val_loss: 0.0859 - val_accuracy: 0.9830 - val_auc: 0.6032\n",
      "Epoch 27/150\n",
      "278/278 [==============================] - 1s 2ms/step - loss: 0.0942 - accuracy: 0.9808 - auc: 0.5414 - val_loss: 0.0858 - val_accuracy: 0.9830 - val_auc: 0.6347\n",
      "Epoch 28/150\n",
      "278/278 [==============================] - 1s 2ms/step - loss: 0.0944 - accuracy: 0.9808 - auc: 0.5399 - val_loss: 0.0857 - val_accuracy: 0.9830 - val_auc: 0.6520\n",
      "Epoch 29/150\n",
      "278/278 [==============================] - 0s 2ms/step - loss: 0.0942 - accuracy: 0.9808 - auc: 0.5463 - val_loss: 0.0856 - val_accuracy: 0.9830 - val_auc: 0.6568\n",
      "Epoch 30/150\n",
      "278/278 [==============================] - 1s 2ms/step - loss: 0.0944 - accuracy: 0.9808 - auc: 0.5289 - val_loss: 0.0855 - val_accuracy: 0.9830 - val_auc: 0.6576\n",
      "Epoch 31/150\n",
      "278/278 [==============================] - 1s 2ms/step - loss: 0.0944 - accuracy: 0.9808 - auc: 0.5360 - val_loss: 0.0854 - val_accuracy: 0.9830 - val_auc: 0.6725\n",
      "Epoch 32/150\n",
      "278/278 [==============================] - 1s 2ms/step - loss: 0.0942 - accuracy: 0.9808 - auc: 0.5512 - val_loss: 0.0853 - val_accuracy: 0.9830 - val_auc: 0.6874\n",
      "Epoch 33/150\n",
      "278/278 [==============================] - 1s 2ms/step - loss: 0.0939 - accuracy: 0.9808 - auc: 0.5612 - val_loss: 0.0852 - val_accuracy: 0.9830 - val_auc: 0.7230\n",
      "Epoch 34/150\n",
      "278/278 [==============================] - 1s 2ms/step - loss: 0.0938 - accuracy: 0.9808 - auc: 0.5685 - val_loss: 0.0851 - val_accuracy: 0.9830 - val_auc: 0.7336\n",
      "Epoch 35/150\n",
      "278/278 [==============================] - 1s 2ms/step - loss: 0.0937 - accuracy: 0.9808 - auc: 0.5748 - val_loss: 0.0849 - val_accuracy: 0.9830 - val_auc: 0.7514\n",
      "Epoch 36/150\n",
      "278/278 [==============================] - 1s 3ms/step - loss: 0.0936 - accuracy: 0.9808 - auc: 0.5841 - val_loss: 0.0848 - val_accuracy: 0.9830 - val_auc: 0.7595\n",
      "Epoch 37/150\n",
      "278/278 [==============================] - 1s 2ms/step - loss: 0.0934 - accuracy: 0.9808 - auc: 0.5910 - val_loss: 0.0847 - val_accuracy: 0.9830 - val_auc: 0.7572\n",
      "Epoch 38/150\n",
      "278/278 [==============================] - 1s 2ms/step - loss: 0.0932 - accuracy: 0.9808 - auc: 0.6155 - val_loss: 0.0845 - val_accuracy: 0.9830 - val_auc: 0.7617\n",
      "Epoch 39/150\n",
      "278/278 [==============================] - 1s 2ms/step - loss: 0.0928 - accuracy: 0.9808 - auc: 0.6322 - val_loss: 0.0843 - val_accuracy: 0.9830 - val_auc: 0.7719\n",
      "Epoch 40/150\n",
      "278/278 [==============================] - 1s 2ms/step - loss: 0.0928 - accuracy: 0.9808 - auc: 0.6417 - val_loss: 0.0841 - val_accuracy: 0.9830 - val_auc: 0.7787\n",
      "Epoch 41/150\n",
      "278/278 [==============================] - 1s 2ms/step - loss: 0.0925 - accuracy: 0.9808 - auc: 0.6484 - val_loss: 0.0839 - val_accuracy: 0.9830 - val_auc: 0.7851\n",
      "Epoch 42/150\n",
      "278/278 [==============================] - 1s 2ms/step - loss: 0.0920 - accuracy: 0.9808 - auc: 0.6709 - val_loss: 0.0837 - val_accuracy: 0.9830 - val_auc: 0.7901\n",
      "Epoch 43/150\n",
      "278/278 [==============================] - 1s 2ms/step - loss: 0.0921 - accuracy: 0.9808 - auc: 0.6685 - val_loss: 0.0835 - val_accuracy: 0.9830 - val_auc: 0.7965\n",
      "Epoch 44/150\n",
      "278/278 [==============================] - 1s 2ms/step - loss: 0.0918 - accuracy: 0.9808 - auc: 0.6815 - val_loss: 0.0832 - val_accuracy: 0.9830 - val_auc: 0.7914\n",
      "Epoch 45/150\n",
      "278/278 [==============================] - 1s 2ms/step - loss: 0.0915 - accuracy: 0.9808 - auc: 0.6909 - val_loss: 0.0829 - val_accuracy: 0.9830 - val_auc: 0.7955\n",
      "Epoch 46/150\n",
      "278/278 [==============================] - 1s 2ms/step - loss: 0.0909 - accuracy: 0.9808 - auc: 0.7169 - val_loss: 0.0826 - val_accuracy: 0.9830 - val_auc: 0.8054\n",
      "Epoch 47/150\n",
      "278/278 [==============================] - 1s 2ms/step - loss: 0.0906 - accuracy: 0.9808 - auc: 0.7219 - val_loss: 0.0823 - val_accuracy: 0.9830 - val_auc: 0.8089\n",
      "Epoch 48/150\n",
      "278/278 [==============================] - 1s 2ms/step - loss: 0.0905 - accuracy: 0.9808 - auc: 0.7227 - val_loss: 0.0820 - val_accuracy: 0.9830 - val_auc: 0.8120\n",
      "Epoch 49/150\n",
      "278/278 [==============================] - 1s 2ms/step - loss: 0.0903 - accuracy: 0.9808 - auc: 0.7194 - val_loss: 0.0817 - val_accuracy: 0.9830 - val_auc: 0.8107\n",
      "Epoch 50/150\n",
      "278/278 [==============================] - 1s 2ms/step - loss: 0.0898 - accuracy: 0.9808 - auc: 0.7403 - val_loss: 0.0814 - val_accuracy: 0.9830 - val_auc: 0.8128\n",
      "Epoch 51/150\n",
      "278/278 [==============================] - 1s 2ms/step - loss: 0.0897 - accuracy: 0.9808 - auc: 0.7424 - val_loss: 0.0812 - val_accuracy: 0.9830 - val_auc: 0.8136\n",
      "Epoch 52/150\n",
      "278/278 [==============================] - 1s 2ms/step - loss: 0.0893 - accuracy: 0.9808 - auc: 0.7508 - val_loss: 0.0809 - val_accuracy: 0.9830 - val_auc: 0.8174\n",
      "Epoch 53/150\n",
      "278/278 [==============================] - 1s 2ms/step - loss: 0.0889 - accuracy: 0.9808 - auc: 0.7623 - val_loss: 0.0806 - val_accuracy: 0.9830 - val_auc: 0.8173\n",
      "Epoch 54/150\n",
      "278/278 [==============================] - 1s 2ms/step - loss: 0.0885 - accuracy: 0.9808 - auc: 0.7708 - val_loss: 0.0804 - val_accuracy: 0.9830 - val_auc: 0.8157\n",
      "Epoch 55/150\n",
      "278/278 [==============================] - 1s 2ms/step - loss: 0.0883 - accuracy: 0.9808 - auc: 0.7776 - val_loss: 0.0801 - val_accuracy: 0.9830 - val_auc: 0.8154\n",
      "Epoch 56/150\n",
      "278/278 [==============================] - 1s 2ms/step - loss: 0.0880 - accuracy: 0.9808 - auc: 0.7783 - val_loss: 0.0799 - val_accuracy: 0.9830 - val_auc: 0.8150\n",
      "Epoch 57/150\n",
      "278/278 [==============================] - 1s 3ms/step - loss: 0.0878 - accuracy: 0.9808 - auc: 0.7810 - val_loss: 0.0796 - val_accuracy: 0.9830 - val_auc: 0.8135\n",
      "Epoch 58/150\n",
      "278/278 [==============================] - 1s 3ms/step - loss: 0.0874 - accuracy: 0.9808 - auc: 0.7867 - val_loss: 0.0794 - val_accuracy: 0.9830 - val_auc: 0.8160\n",
      "Epoch 59/150\n",
      "278/278 [==============================] - 1s 3ms/step - loss: 0.0874 - accuracy: 0.9808 - auc: 0.7819 - val_loss: 0.0791 - val_accuracy: 0.9830 - val_auc: 0.8157\n",
      "Epoch 60/150\n",
      "278/278 [==============================] - 1s 2ms/step - loss: 0.0869 - accuracy: 0.9808 - auc: 0.7949 - val_loss: 0.0789 - val_accuracy: 0.9830 - val_auc: 0.8168\n",
      "Epoch 61/150\n",
      "278/278 [==============================] - 1s 2ms/step - loss: 0.0867 - accuracy: 0.9808 - auc: 0.7932 - val_loss: 0.0787 - val_accuracy: 0.9830 - val_auc: 0.8203\n",
      "Epoch 62/150\n",
      "278/278 [==============================] - 1s 2ms/step - loss: 0.0865 - accuracy: 0.9808 - auc: 0.7958 - val_loss: 0.0785 - val_accuracy: 0.9830 - val_auc: 0.8185\n",
      "Epoch 63/150\n",
      "278/278 [==============================] - 1s 2ms/step - loss: 0.0866 - accuracy: 0.9808 - auc: 0.7866 - val_loss: 0.0783 - val_accuracy: 0.9830 - val_auc: 0.8164\n",
      "Epoch 64/150\n",
      "278/278 [==============================] - 1s 2ms/step - loss: 0.0861 - accuracy: 0.9808 - auc: 0.7993 - val_loss: 0.0781 - val_accuracy: 0.9830 - val_auc: 0.8177\n",
      "Epoch 65/150\n",
      "278/278 [==============================] - 1s 2ms/step - loss: 0.0858 - accuracy: 0.9808 - auc: 0.8043 - val_loss: 0.0779 - val_accuracy: 0.9830 - val_auc: 0.8166\n",
      "Epoch 66/150\n",
      "278/278 [==============================] - 1s 3ms/step - loss: 0.0859 - accuracy: 0.9808 - auc: 0.7980 - val_loss: 0.0777 - val_accuracy: 0.9830 - val_auc: 0.8183\n",
      "Epoch 67/150\n",
      "278/278 [==============================] - 1s 2ms/step - loss: 0.0854 - accuracy: 0.9808 - auc: 0.8042 - val_loss: 0.0775 - val_accuracy: 0.9830 - val_auc: 0.8203\n",
      "Epoch 68/150\n",
      "278/278 [==============================] - 1s 2ms/step - loss: 0.0855 - accuracy: 0.9808 - auc: 0.7981 - val_loss: 0.0773 - val_accuracy: 0.9830 - val_auc: 0.8222\n",
      "Epoch 69/150\n",
      "278/278 [==============================] - 1s 2ms/step - loss: 0.0852 - accuracy: 0.9808 - auc: 0.8040 - val_loss: 0.0771 - val_accuracy: 0.9830 - val_auc: 0.8185\n",
      "Epoch 70/150\n",
      "278/278 [==============================] - 1s 2ms/step - loss: 0.0851 - accuracy: 0.9808 - auc: 0.8034 - val_loss: 0.0769 - val_accuracy: 0.9830 - val_auc: 0.8195\n",
      "Epoch 71/150\n",
      "278/278 [==============================] - 1s 2ms/step - loss: 0.0845 - accuracy: 0.9808 - auc: 0.8138 - val_loss: 0.0768 - val_accuracy: 0.9830 - val_auc: 0.8218\n",
      "Epoch 72/150\n",
      "278/278 [==============================] - 1s 2ms/step - loss: 0.0850 - accuracy: 0.9808 - auc: 0.8007 - val_loss: 0.0766 - val_accuracy: 0.9830 - val_auc: 0.8229\n",
      "Epoch 73/150\n",
      "278/278 [==============================] - 1s 2ms/step - loss: 0.0845 - accuracy: 0.9808 - auc: 0.8101 - val_loss: 0.0764 - val_accuracy: 0.9830 - val_auc: 0.8243\n",
      "Epoch 74/150\n",
      "278/278 [==============================] - 1s 2ms/step - loss: 0.0845 - accuracy: 0.9808 - auc: 0.8064 - val_loss: 0.0763 - val_accuracy: 0.9830 - val_auc: 0.8253\n",
      "Epoch 75/150\n",
      "278/278 [==============================] - 1s 2ms/step - loss: 0.0844 - accuracy: 0.9808 - auc: 0.8070 - val_loss: 0.0761 - val_accuracy: 0.9830 - val_auc: 0.8271\n",
      "Epoch 76/150\n",
      "278/278 [==============================] - 1s 2ms/step - loss: 0.0842 - accuracy: 0.9808 - auc: 0.8134 - val_loss: 0.0760 - val_accuracy: 0.9830 - val_auc: 0.8302\n",
      "Epoch 77/150\n",
      "278/278 [==============================] - 1s 2ms/step - loss: 0.0839 - accuracy: 0.9808 - auc: 0.8148 - val_loss: 0.0758 - val_accuracy: 0.9830 - val_auc: 0.8292\n",
      "Epoch 78/150\n",
      "278/278 [==============================] - 1s 2ms/step - loss: 0.0841 - accuracy: 0.9808 - auc: 0.8102 - val_loss: 0.0757 - val_accuracy: 0.9830 - val_auc: 0.8315\n",
      "Epoch 79/150\n",
      "278/278 [==============================] - 1s 2ms/step - loss: 0.0837 - accuracy: 0.9808 - auc: 0.8133 - val_loss: 0.0755 - val_accuracy: 0.9830 - val_auc: 0.8326\n",
      "Epoch 80/150\n",
      "278/278 [==============================] - 1s 2ms/step - loss: 0.0838 - accuracy: 0.9808 - auc: 0.8125 - val_loss: 0.0754 - val_accuracy: 0.9830 - val_auc: 0.8336\n",
      "Epoch 81/150\n",
      "278/278 [==============================] - 1s 2ms/step - loss: 0.0836 - accuracy: 0.9808 - auc: 0.8144 - val_loss: 0.0753 - val_accuracy: 0.9830 - val_auc: 0.8333\n",
      "Epoch 82/150\n",
      "278/278 [==============================] - 1s 2ms/step - loss: 0.0835 - accuracy: 0.9808 - auc: 0.8133 - val_loss: 0.0751 - val_accuracy: 0.9830 - val_auc: 0.8330\n",
      "Epoch 83/150\n",
      "278/278 [==============================] - 1s 2ms/step - loss: 0.0833 - accuracy: 0.9808 - auc: 0.8172 - val_loss: 0.0750 - val_accuracy: 0.9830 - val_auc: 0.8344\n",
      "Epoch 84/150\n",
      "278/278 [==============================] - 1s 2ms/step - loss: 0.0826 - accuracy: 0.9808 - auc: 0.8258 - val_loss: 0.0749 - val_accuracy: 0.9830 - val_auc: 0.8340\n",
      "Epoch 85/150\n",
      "278/278 [==============================] - 1s 3ms/step - loss: 0.0829 - accuracy: 0.9808 - auc: 0.8193 - val_loss: 0.0748 - val_accuracy: 0.9830 - val_auc: 0.8330\n",
      "Epoch 86/150\n",
      "278/278 [==============================] - 1s 2ms/step - loss: 0.0828 - accuracy: 0.9808 - auc: 0.8189 - val_loss: 0.0746 - val_accuracy: 0.9830 - val_auc: 0.8296\n",
      "Epoch 87/150\n",
      "278/278 [==============================] - 1s 3ms/step - loss: 0.0827 - accuracy: 0.9808 - auc: 0.8208 - val_loss: 0.0745 - val_accuracy: 0.9830 - val_auc: 0.8309\n",
      "Epoch 88/150\n",
      "278/278 [==============================] - 1s 2ms/step - loss: 0.0823 - accuracy: 0.9808 - auc: 0.8255 - val_loss: 0.0744 - val_accuracy: 0.9830 - val_auc: 0.8305\n",
      "Epoch 89/150\n",
      "278/278 [==============================] - 1s 2ms/step - loss: 0.0826 - accuracy: 0.9808 - auc: 0.8188 - val_loss: 0.0743 - val_accuracy: 0.9830 - val_auc: 0.8321\n",
      "Epoch 90/150\n",
      "278/278 [==============================] - 1s 2ms/step - loss: 0.0824 - accuracy: 0.9808 - auc: 0.8227 - val_loss: 0.0742 - val_accuracy: 0.9830 - val_auc: 0.8330\n",
      "Epoch 91/150\n",
      "278/278 [==============================] - 1s 2ms/step - loss: 0.0824 - accuracy: 0.9808 - auc: 0.8233 - val_loss: 0.0741 - val_accuracy: 0.9830 - val_auc: 0.8317\n",
      "Epoch 92/150\n",
      "278/278 [==============================] - 1s 2ms/step - loss: 0.0825 - accuracy: 0.9808 - auc: 0.8192 - val_loss: 0.0740 - val_accuracy: 0.9830 - val_auc: 0.8315\n",
      "Epoch 93/150\n"
     ]
    },
    {
     "name": "stdout",
     "output_type": "stream",
     "text": [
      "278/278 [==============================] - 1s 2ms/step - loss: 0.0822 - accuracy: 0.9808 - auc: 0.8211 - val_loss: 0.0739 - val_accuracy: 0.9830 - val_auc: 0.8320\n",
      "Epoch 94/150\n",
      "278/278 [==============================] - 1s 2ms/step - loss: 0.0819 - accuracy: 0.9808 - auc: 0.8248 - val_loss: 0.0738 - val_accuracy: 0.9830 - val_auc: 0.8327\n",
      "Epoch 95/150\n",
      "278/278 [==============================] - 1s 2ms/step - loss: 0.0820 - accuracy: 0.9808 - auc: 0.8209 - val_loss: 0.0737 - val_accuracy: 0.9830 - val_auc: 0.8329\n",
      "Epoch 96/150\n",
      "278/278 [==============================] - 1s 2ms/step - loss: 0.0822 - accuracy: 0.9808 - auc: 0.8197 - val_loss: 0.0736 - val_accuracy: 0.9830 - val_auc: 0.8342\n",
      "Epoch 97/150\n",
      "278/278 [==============================] - 1s 2ms/step - loss: 0.0818 - accuracy: 0.9808 - auc: 0.8235 - val_loss: 0.0735 - val_accuracy: 0.9830 - val_auc: 0.8354\n",
      "Epoch 98/150\n",
      "278/278 [==============================] - 1s 2ms/step - loss: 0.0814 - accuracy: 0.9808 - auc: 0.8312 - val_loss: 0.0735 - val_accuracy: 0.9830 - val_auc: 0.8359\n",
      "Epoch 99/150\n",
      "278/278 [==============================] - 1s 2ms/step - loss: 0.0814 - accuracy: 0.9808 - auc: 0.8264 - val_loss: 0.0734 - val_accuracy: 0.9830 - val_auc: 0.8365\n",
      "Epoch 100/150\n",
      "278/278 [==============================] - 1s 3ms/step - loss: 0.0822 - accuracy: 0.9808 - auc: 0.8148 - val_loss: 0.0733 - val_accuracy: 0.9830 - val_auc: 0.8376\n",
      "Epoch 101/150\n",
      "278/278 [==============================] - 1s 2ms/step - loss: 0.0814 - accuracy: 0.9808 - auc: 0.8240 - val_loss: 0.0732 - val_accuracy: 0.9830 - val_auc: 0.8373\n",
      "Epoch 102/150\n",
      "278/278 [==============================] - 1s 2ms/step - loss: 0.0816 - accuracy: 0.9808 - auc: 0.8207 - val_loss: 0.0732 - val_accuracy: 0.9830 - val_auc: 0.8377\n",
      "Epoch 103/150\n",
      "278/278 [==============================] - 1s 2ms/step - loss: 0.0811 - accuracy: 0.9808 - auc: 0.8284 - val_loss: 0.0731 - val_accuracy: 0.9830 - val_auc: 0.8375\n",
      "Epoch 104/150\n",
      "278/278 [==============================] - 1s 3ms/step - loss: 0.0809 - accuracy: 0.9808 - auc: 0.8310 - val_loss: 0.0730 - val_accuracy: 0.9830 - val_auc: 0.8363\n",
      "Epoch 105/150\n",
      "278/278 [==============================] - 1s 2ms/step - loss: 0.0813 - accuracy: 0.9808 - auc: 0.8253 - val_loss: 0.0729 - val_accuracy: 0.9830 - val_auc: 0.8350\n",
      "Epoch 106/150\n",
      "278/278 [==============================] - 1s 2ms/step - loss: 0.0809 - accuracy: 0.9808 - auc: 0.8303 - val_loss: 0.0729 - val_accuracy: 0.9830 - val_auc: 0.8359\n",
      "Epoch 107/150\n",
      "278/278 [==============================] - 1s 3ms/step - loss: 0.0811 - accuracy: 0.9808 - auc: 0.8249 - val_loss: 0.0728 - val_accuracy: 0.9830 - val_auc: 0.8367\n",
      "Epoch 108/150\n",
      "278/278 [==============================] - 1s 2ms/step - loss: 0.0805 - accuracy: 0.9808 - auc: 0.8309 - val_loss: 0.0727 - val_accuracy: 0.9830 - val_auc: 0.8375\n",
      "Epoch 109/150\n",
      "278/278 [==============================] - 1s 2ms/step - loss: 0.0811 - accuracy: 0.9808 - auc: 0.8242 - val_loss: 0.0727 - val_accuracy: 0.9830 - val_auc: 0.8393\n",
      "Epoch 110/150\n",
      "278/278 [==============================] - 1s 3ms/step - loss: 0.0811 - accuracy: 0.9808 - auc: 0.8231 - val_loss: 0.0726 - val_accuracy: 0.9830 - val_auc: 0.8385\n",
      "Epoch 111/150\n",
      "278/278 [==============================] - 1s 2ms/step - loss: 0.0805 - accuracy: 0.9808 - auc: 0.8275 - val_loss: 0.0725 - val_accuracy: 0.9830 - val_auc: 0.8381\n",
      "Epoch 112/150\n",
      "278/278 [==============================] - 1s 2ms/step - loss: 0.0806 - accuracy: 0.9808 - auc: 0.8296 - val_loss: 0.0725 - val_accuracy: 0.9830 - val_auc: 0.8397\n",
      "Epoch 113/150\n",
      "278/278 [==============================] - 1s 2ms/step - loss: 0.0807 - accuracy: 0.9808 - auc: 0.8279 - val_loss: 0.0724 - val_accuracy: 0.9830 - val_auc: 0.8408\n",
      "Epoch 114/150\n",
      "278/278 [==============================] - 1s 2ms/step - loss: 0.0803 - accuracy: 0.9808 - auc: 0.8307 - val_loss: 0.0723 - val_accuracy: 0.9830 - val_auc: 0.8409\n",
      "Epoch 115/150\n",
      "278/278 [==============================] - 1s 2ms/step - loss: 0.0802 - accuracy: 0.9808 - auc: 0.8333 - val_loss: 0.0723 - val_accuracy: 0.9830 - val_auc: 0.8425\n",
      "Epoch 116/150\n",
      "278/278 [==============================] - 1s 3ms/step - loss: 0.0803 - accuracy: 0.9808 - auc: 0.8307 - val_loss: 0.0722 - val_accuracy: 0.9830 - val_auc: 0.8420\n",
      "Epoch 117/150\n",
      "278/278 [==============================] - 1s 2ms/step - loss: 0.0809 - accuracy: 0.9808 - auc: 0.8207 - val_loss: 0.0722 - val_accuracy: 0.9830 - val_auc: 0.8429\n",
      "Epoch 118/150\n",
      "278/278 [==============================] - 1s 2ms/step - loss: 0.0807 - accuracy: 0.9808 - auc: 0.8244 - val_loss: 0.0721 - val_accuracy: 0.9830 - val_auc: 0.8436\n",
      "Epoch 119/150\n",
      "278/278 [==============================] - 1s 3ms/step - loss: 0.0808 - accuracy: 0.9808 - auc: 0.8241 - val_loss: 0.0721 - val_accuracy: 0.9830 - val_auc: 0.8432\n",
      "Epoch 120/150\n",
      "278/278 [==============================] - 1s 2ms/step - loss: 0.0805 - accuracy: 0.9808 - auc: 0.8275 - val_loss: 0.0721 - val_accuracy: 0.9830 - val_auc: 0.8427\n",
      "Epoch 121/150\n",
      "278/278 [==============================] - 1s 2ms/step - loss: 0.0799 - accuracy: 0.9808 - auc: 0.8342 - val_loss: 0.0720 - val_accuracy: 0.9830 - val_auc: 0.8425\n",
      "Epoch 122/150\n",
      "278/278 [==============================] - 1s 3ms/step - loss: 0.0798 - accuracy: 0.9808 - auc: 0.8349 - val_loss: 0.0720 - val_accuracy: 0.9830 - val_auc: 0.8430\n",
      "Epoch 123/150\n",
      "278/278 [==============================] - 1s 2ms/step - loss: 0.0801 - accuracy: 0.9808 - auc: 0.8293 - val_loss: 0.0719 - val_accuracy: 0.9830 - val_auc: 0.8438\n",
      "Epoch 124/150\n",
      "278/278 [==============================] - 1s 2ms/step - loss: 0.0800 - accuracy: 0.9808 - auc: 0.8308 - val_loss: 0.0719 - val_accuracy: 0.9830 - val_auc: 0.8407\n",
      "Epoch 125/150\n",
      "278/278 [==============================] - 1s 2ms/step - loss: 0.0802 - accuracy: 0.9808 - auc: 0.8272 - val_loss: 0.0719 - val_accuracy: 0.9830 - val_auc: 0.8413\n",
      "Epoch 126/150\n",
      "278/278 [==============================] - 1s 2ms/step - loss: 0.0799 - accuracy: 0.9808 - auc: 0.8327 - val_loss: 0.0718 - val_accuracy: 0.9830 - val_auc: 0.8387\n",
      "Epoch 127/150\n",
      "278/278 [==============================] - 1s 2ms/step - loss: 0.0802 - accuracy: 0.9808 - auc: 0.8268 - val_loss: 0.0718 - val_accuracy: 0.9830 - val_auc: 0.8389\n",
      "Epoch 128/150\n",
      "278/278 [==============================] - 1s 2ms/step - loss: 0.0795 - accuracy: 0.9808 - auc: 0.8377 - val_loss: 0.0718 - val_accuracy: 0.9830 - val_auc: 0.8394\n",
      "Epoch 129/150\n",
      "278/278 [==============================] - 1s 2ms/step - loss: 0.0800 - accuracy: 0.9808 - auc: 0.8313 - val_loss: 0.0718 - val_accuracy: 0.9830 - val_auc: 0.8397\n",
      "Epoch 130/150\n",
      "278/278 [==============================] - 1s 2ms/step - loss: 0.0798 - accuracy: 0.9808 - auc: 0.8323 - val_loss: 0.0717 - val_accuracy: 0.9830 - val_auc: 0.8404\n",
      "Epoch 131/150\n",
      "278/278 [==============================] - 1s 2ms/step - loss: 0.0799 - accuracy: 0.9808 - auc: 0.8298 - val_loss: 0.0717 - val_accuracy: 0.9830 - val_auc: 0.8405\n",
      "Epoch 132/150\n",
      "278/278 [==============================] - 1s 2ms/step - loss: 0.0795 - accuracy: 0.9808 - auc: 0.8348 - val_loss: 0.0717 - val_accuracy: 0.9830 - val_auc: 0.8385\n",
      "Epoch 133/150\n",
      "278/278 [==============================] - 1s 2ms/step - loss: 0.0800 - accuracy: 0.9808 - auc: 0.8295 - val_loss: 0.0716 - val_accuracy: 0.9830 - val_auc: 0.8389\n",
      "Epoch 134/150\n",
      "278/278 [==============================] - 1s 2ms/step - loss: 0.0799 - accuracy: 0.9808 - auc: 0.8290 - val_loss: 0.0716 - val_accuracy: 0.9830 - val_auc: 0.8393\n",
      "Epoch 135/150\n",
      "278/278 [==============================] - 1s 2ms/step - loss: 0.0797 - accuracy: 0.9808 - auc: 0.8330 - val_loss: 0.0716 - val_accuracy: 0.9830 - val_auc: 0.8396\n",
      "Epoch 136/150\n",
      "278/278 [==============================] - 1s 2ms/step - loss: 0.0798 - accuracy: 0.9808 - auc: 0.8334 - val_loss: 0.0716 - val_accuracy: 0.9830 - val_auc: 0.8397\n",
      "Epoch 137/150\n",
      "278/278 [==============================] - 1s 2ms/step - loss: 0.0796 - accuracy: 0.9808 - auc: 0.8330 - val_loss: 0.0716 - val_accuracy: 0.9830 - val_auc: 0.8398\n",
      "Epoch 138/150\n",
      "278/278 [==============================] - 1s 2ms/step - loss: 0.0803 - accuracy: 0.9808 - auc: 0.8259 - val_loss: 0.0716 - val_accuracy: 0.9830 - val_auc: 0.8403\n",
      "Epoch 139/150\n",
      "278/278 [==============================] - 1s 2ms/step - loss: 0.0800 - accuracy: 0.9808 - auc: 0.8273 - val_loss: 0.0716 - val_accuracy: 0.9830 - val_auc: 0.8402\n",
      "Epoch 140/150\n",
      "278/278 [==============================] - 1s 2ms/step - loss: 0.0792 - accuracy: 0.9808 - auc: 0.8353 - val_loss: 0.0715 - val_accuracy: 0.9830 - val_auc: 0.8400\n",
      "Epoch 141/150\n",
      "278/278 [==============================] - 1s 2ms/step - loss: 0.0797 - accuracy: 0.9808 - auc: 0.8307 - val_loss: 0.0715 - val_accuracy: 0.9830 - val_auc: 0.8398\n",
      "Epoch 142/150\n",
      "278/278 [==============================] - 1s 2ms/step - loss: 0.0798 - accuracy: 0.9808 - auc: 0.8310 - val_loss: 0.0715 - val_accuracy: 0.9830 - val_auc: 0.8404\n",
      "Epoch 143/150\n",
      "278/278 [==============================] - 1s 2ms/step - loss: 0.0799 - accuracy: 0.9808 - auc: 0.8296 - val_loss: 0.0715 - val_accuracy: 0.9830 - val_auc: 0.8405\n",
      "Epoch 144/150\n",
      "278/278 [==============================] - 1s 2ms/step - loss: 0.0797 - accuracy: 0.9808 - auc: 0.8293 - val_loss: 0.0715 - val_accuracy: 0.9830 - val_auc: 0.8408\n",
      "Epoch 145/150\n",
      "278/278 [==============================] - 1s 2ms/step - loss: 0.0791 - accuracy: 0.9808 - auc: 0.8355 - val_loss: 0.0715 - val_accuracy: 0.9830 - val_auc: 0.8412\n",
      "Epoch 146/150\n",
      "278/278 [==============================] - 1s 2ms/step - loss: 0.0796 - accuracy: 0.9808 - auc: 0.8322 - val_loss: 0.0715 - val_accuracy: 0.9830 - val_auc: 0.8408\n",
      "Epoch 147/150\n",
      "278/278 [==============================] - 1s 2ms/step - loss: 0.0799 - accuracy: 0.9808 - auc: 0.8295 - val_loss: 0.0714 - val_accuracy: 0.9830 - val_auc: 0.8407\n",
      "Epoch 148/150\n",
      "278/278 [==============================] - 1s 2ms/step - loss: 0.0796 - accuracy: 0.9808 - auc: 0.8299 - val_loss: 0.0714 - val_accuracy: 0.9830 - val_auc: 0.8408\n",
      "Epoch 149/150\n",
      "278/278 [==============================] - 1s 2ms/step - loss: 0.0797 - accuracy: 0.9808 - auc: 0.8301 - val_loss: 0.0714 - val_accuracy: 0.9830 - val_auc: 0.8404\n",
      "Epoch 150/150\n",
      "278/278 [==============================] - 1s 3ms/step - loss: 0.0796 - accuracy: 0.9808 - auc: 0.8328 - val_loss: 0.0714 - val_accuracy: 0.9830 - val_auc: 0.8406\n"
     ]
    }
   ],
   "source": [
    "# train the model\n",
    "Ann_results = ann_model.fit(X_train, y_train, batch_size=100, epochs=150, validation_split=0.2)"
   ]
  },
  {
   "cell_type": "code",
   "execution_count": 140,
   "metadata": {},
   "outputs": [],
   "source": [
    "ann_val = pd.DataFrame(Ann_results.history)"
   ]
  },
  {
   "cell_type": "code",
   "execution_count": 141,
   "metadata": {},
   "outputs": [
    {
     "data": {
      "text/html": [
       "<div>\n",
       "<style scoped>\n",
       "    .dataframe tbody tr th:only-of-type {\n",
       "        vertical-align: middle;\n",
       "    }\n",
       "\n",
       "    .dataframe tbody tr th {\n",
       "        vertical-align: top;\n",
       "    }\n",
       "\n",
       "    .dataframe thead th {\n",
       "        text-align: right;\n",
       "    }\n",
       "</style>\n",
       "<table border=\"1\" class=\"dataframe\">\n",
       "  <thead>\n",
       "    <tr style=\"text-align: right;\">\n",
       "      <th></th>\n",
       "      <th>loss</th>\n",
       "      <th>accuracy</th>\n",
       "      <th>auc</th>\n",
       "      <th>val_loss</th>\n",
       "      <th>val_accuracy</th>\n",
       "      <th>val_auc</th>\n",
       "    </tr>\n",
       "  </thead>\n",
       "  <tbody>\n",
       "    <tr>\n",
       "      <th>0</th>\n",
       "      <td>0.478176</td>\n",
       "      <td>0.978147</td>\n",
       "      <td>0.498093</td>\n",
       "      <td>0.333970</td>\n",
       "      <td>0.983007</td>\n",
       "      <td>0.497752</td>\n",
       "    </tr>\n",
       "    <tr>\n",
       "      <th>1</th>\n",
       "      <td>0.269902</td>\n",
       "      <td>0.980847</td>\n",
       "      <td>0.510871</td>\n",
       "      <td>0.217704</td>\n",
       "      <td>0.983007</td>\n",
       "      <td>0.500000</td>\n",
       "    </tr>\n",
       "    <tr>\n",
       "      <th>2</th>\n",
       "      <td>0.193092</td>\n",
       "      <td>0.980847</td>\n",
       "      <td>0.509245</td>\n",
       "      <td>0.166518</td>\n",
       "      <td>0.983007</td>\n",
       "      <td>0.500000</td>\n",
       "    </tr>\n",
       "    <tr>\n",
       "      <th>3</th>\n",
       "      <td>0.156217</td>\n",
       "      <td>0.980847</td>\n",
       "      <td>0.497001</td>\n",
       "      <td>0.139184</td>\n",
       "      <td>0.983007</td>\n",
       "      <td>0.471680</td>\n",
       "    </tr>\n",
       "    <tr>\n",
       "      <th>4</th>\n",
       "      <td>0.135588</td>\n",
       "      <td>0.980847</td>\n",
       "      <td>0.500653</td>\n",
       "      <td>0.122797</td>\n",
       "      <td>0.983007</td>\n",
       "      <td>0.500000</td>\n",
       "    </tr>\n",
       "    <tr>\n",
       "      <th>...</th>\n",
       "      <td>...</td>\n",
       "      <td>...</td>\n",
       "      <td>...</td>\n",
       "      <td>...</td>\n",
       "      <td>...</td>\n",
       "      <td>...</td>\n",
       "    </tr>\n",
       "    <tr>\n",
       "      <th>145</th>\n",
       "      <td>0.079590</td>\n",
       "      <td>0.980847</td>\n",
       "      <td>0.832161</td>\n",
       "      <td>0.071454</td>\n",
       "      <td>0.983007</td>\n",
       "      <td>0.840826</td>\n",
       "    </tr>\n",
       "    <tr>\n",
       "      <th>146</th>\n",
       "      <td>0.079900</td>\n",
       "      <td>0.980847</td>\n",
       "      <td>0.829512</td>\n",
       "      <td>0.071438</td>\n",
       "      <td>0.983007</td>\n",
       "      <td>0.840713</td>\n",
       "    </tr>\n",
       "    <tr>\n",
       "      <th>147</th>\n",
       "      <td>0.079618</td>\n",
       "      <td>0.980847</td>\n",
       "      <td>0.829920</td>\n",
       "      <td>0.071419</td>\n",
       "      <td>0.983007</td>\n",
       "      <td>0.840799</td>\n",
       "    </tr>\n",
       "    <tr>\n",
       "      <th>148</th>\n",
       "      <td>0.079670</td>\n",
       "      <td>0.980847</td>\n",
       "      <td>0.830135</td>\n",
       "      <td>0.071420</td>\n",
       "      <td>0.983007</td>\n",
       "      <td>0.840398</td>\n",
       "    </tr>\n",
       "    <tr>\n",
       "      <th>149</th>\n",
       "      <td>0.079565</td>\n",
       "      <td>0.980847</td>\n",
       "      <td>0.832843</td>\n",
       "      <td>0.071400</td>\n",
       "      <td>0.983007</td>\n",
       "      <td>0.840596</td>\n",
       "    </tr>\n",
       "  </tbody>\n",
       "</table>\n",
       "<p>150 rows × 6 columns</p>\n",
       "</div>"
      ],
      "text/plain": [
       "         loss  accuracy       auc  val_loss  val_accuracy   val_auc\n",
       "0    0.478176  0.978147  0.498093  0.333970      0.983007  0.497752\n",
       "1    0.269902  0.980847  0.510871  0.217704      0.983007  0.500000\n",
       "2    0.193092  0.980847  0.509245  0.166518      0.983007  0.500000\n",
       "3    0.156217  0.980847  0.497001  0.139184      0.983007  0.471680\n",
       "4    0.135588  0.980847  0.500653  0.122797      0.983007  0.500000\n",
       "..        ...       ...       ...       ...           ...       ...\n",
       "145  0.079590  0.980847  0.832161  0.071454      0.983007  0.840826\n",
       "146  0.079900  0.980847  0.829512  0.071438      0.983007  0.840713\n",
       "147  0.079618  0.980847  0.829920  0.071419      0.983007  0.840799\n",
       "148  0.079670  0.980847  0.830135  0.071420      0.983007  0.840398\n",
       "149  0.079565  0.980847  0.832843  0.071400      0.983007  0.840596\n",
       "\n",
       "[150 rows x 6 columns]"
      ]
     },
     "execution_count": 141,
     "metadata": {},
     "output_type": "execute_result"
    }
   ],
   "source": [
    "ann_val"
   ]
  },
  {
   "cell_type": "code",
   "execution_count": 143,
   "metadata": {},
   "outputs": [
    {
     "data": {
      "text/plain": [
       "150"
      ]
     },
     "execution_count": 143,
     "metadata": {},
     "output_type": "execute_result"
    }
   ],
   "source": [
    "ann_val.shape[0]"
   ]
  },
  {
   "cell_type": "code",
   "execution_count": 150,
   "metadata": {},
   "outputs": [],
   "source": [
    "train_loss = list(ann_val['loss'])\n",
    "val_loss = list(ann_val['val_loss'])"
   ]
  },
  {
   "cell_type": "code",
   "execution_count": 152,
   "metadata": {},
   "outputs": [],
   "source": [
    "import numpy as np"
   ]
  },
  {
   "cell_type": "code",
   "execution_count": 155,
   "metadata": {},
   "outputs": [
    {
     "data": {
      "image/png": "[encoded data removed]",
      "text/plain": [
       "<Figure size 576x432 with 1 Axes>"
      ]
     },
     "metadata": {
      "needs_background": "light"
     },
     "output_type": "display_data"
    }
   ],
   "source": [
    "epochs = np.arange(1, ann_val.shape[0] + 1)\n",
    "plt.figure(figsize=(8, 6))\n",
    "plt.plot(epochs, train_loss, label='Training Loss', marker='o', linestyle='--', color='blue')\n",
    "plt.plot(epochs, val_loss, label='Validation Loss', marker='o', linestyle='--', color='orange')\n",
    "plt.xlabel('Epoch')\n",
    "plt.ylabel('Loss')\n",
    "plt.title('Training and Validation Loss')\n",
    "plt.legend()\n",
    "plt.grid(True)\n",
    "plt.show()"
   ]
  },
  {
   "cell_type": "code",
   "execution_count": 109,
   "metadata": {},
   "outputs": [
    {
     "name": "stdout",
     "output_type": "stream",
     "text": [
      "272/272 [==============================] - 0s 832us/step\n"
     ]
    }
   ],
   "source": [
    "#Test Model\n",
    "y_pred = ann_model.predict(X_test)\n",
    "y_pred = (y_pred>0.5)"
   ]
  },
  {
   "cell_type": "code",
   "execution_count": 110,
   "metadata": {},
   "outputs": [
    {
     "name": "stdout",
     "output_type": "stream",
     "text": [
      "272/272 [==============================] - 0s 1ms/step - loss: 0.0667 - accuracy: 0.9847 - auc: 0.8387\n"
     ]
    }
   ],
   "source": [
    "loss, accuracy, auc = ann_model.evaluate(X_test, y_test)"
   ]
  },
  {
   "cell_type": "code",
   "execution_count": 111,
   "metadata": {},
   "outputs": [
    {
     "name": "stdout",
     "output_type": "stream",
     "text": [
      "Loss of ANN : 0.0667\n"
     ]
    }
   ],
   "source": [
    "print(f'Loss of ANN : {loss:.4f}')"
   ]
  },
  {
   "cell_type": "code",
   "execution_count": 112,
   "metadata": {},
   "outputs": [
    {
     "name": "stdout",
     "output_type": "stream",
     "text": [
      "Accuracy of ANN : 98.4677\n"
     ]
    }
   ],
   "source": [
    "print(f'Accuracy of ANN : {accuracy*100:.4f}')"
   ]
  },
  {
   "cell_type": "code",
   "execution_count": 113,
   "metadata": {},
   "outputs": [],
   "source": [
    "cm = confusion_matrix(y_test,y_pred)"
   ]
  },
  {
   "cell_type": "code",
   "execution_count": 114,
   "metadata": {},
   "outputs": [],
   "source": [
    "cm_df = pd.DataFrame(cm, index=['Actual Neg.', 'Actual Pos.'], columns=['Predicted Neg.', 'Predicted Pos.'])"
   ]
  },
  {
   "cell_type": "code",
   "execution_count": 115,
   "metadata": {},
   "outputs": [
    {
     "data": {
      "text/html": [
       "<div>\n",
       "<style scoped>\n",
       "    .dataframe tbody tr th:only-of-type {\n",
       "        vertical-align: middle;\n",
       "    }\n",
       "\n",
       "    .dataframe tbody tr th {\n",
       "        vertical-align: top;\n",
       "    }\n",
       "\n",
       "    .dataframe thead th {\n",
       "        text-align: right;\n",
       "    }\n",
       "</style>\n",
       "<table border=\"1\" class=\"dataframe\">\n",
       "  <thead>\n",
       "    <tr style=\"text-align: right;\">\n",
       "      <th></th>\n",
       "      <th>Predicted Neg.</th>\n",
       "      <th>Predicted Pos.</th>\n",
       "    </tr>\n",
       "  </thead>\n",
       "  <tbody>\n",
       "    <tr>\n",
       "      <th>Actual Neg.</th>\n",
       "      <td>8547</td>\n",
       "      <td>0</td>\n",
       "    </tr>\n",
       "    <tr>\n",
       "      <th>Actual Pos.</th>\n",
       "      <td>133</td>\n",
       "      <td>0</td>\n",
       "    </tr>\n",
       "  </tbody>\n",
       "</table>\n",
       "</div>"
      ],
      "text/plain": [
       "             Predicted Neg.  Predicted Pos.\n",
       "Actual Neg.            8547               0\n",
       "Actual Pos.             133               0"
      ]
     },
     "execution_count": 115,
     "metadata": {},
     "output_type": "execute_result"
    }
   ],
   "source": [
    "cm_df"
   ]
  },
  {
   "cell_type": "code",
   "execution_count": 116,
   "metadata": {},
   "outputs": [
    {
     "data": {
      "text/plain": [
       "Text(0.5, 1.0, 'Confusion Matrix')"
      ]
     },
     "execution_count": 116,
     "metadata": {},
     "output_type": "execute_result"
    },
    {
     "data": {
      "image/png": "[encoded data removed]",
      "text/plain": [
       "<Figure size 504x360 with 2 Axes>"
      ]
     },
     "metadata": {
      "needs_background": "light"
     },
     "output_type": "display_data"
    }
   ],
   "source": [
    "plt.figure(figsize=(7,5))\n",
    "sns.heatmap(cm_df, annot=True, cmap='Blues', fmt='d')\n",
    "# Set the axis labels and title\n",
    "plt.xlabel('- - - - Predicted Labels - - - -')\n",
    "plt.ylabel('- - - - True Labels - - - -')\n",
    "plt.title('Confusion Matrix')"
   ]
  },
  {
   "cell_type": "code",
   "execution_count": 51,
   "metadata": {},
   "outputs": [
    {
     "name": "stdout",
     "output_type": "stream",
     "text": [
      "407/407 [==============================] - 0s 820us/step\n",
      "AUC Score: 0.8385711313956682\n"
     ]
    }
   ],
   "source": [
    "y_pred_1 = ann_model.predict(X_test)\n",
    "\n",
    "# AUC score for the binary classification problem\n",
    "auc_score = roc_auc_score(y_test, y_pred_1)\n",
    "\n",
    "print(\"AUC Score:\", auc_score)"
   ]
  },
  {
   "cell_type": "code",
   "execution_count": 49,
   "metadata": {},
   "outputs": [
    {
     "data": {
      "image/png": "[encoded data removed]",
      "text/plain": [
       "<Figure size 1080x504 with 1 Axes>"
      ]
     },
     "metadata": {
      "needs_background": "light"
     },
     "output_type": "display_data"
    }
   ],
   "source": [
    "fpr, tpr, thresholds = roc_curve(y_test, y_pred_1)\n",
    "roc_auc = auc(fpr, tpr)\n",
    "\n",
    "# Plot ROC curve\n",
    "plt.figure(figsize=(15,7))\n",
    "plt.plot(fpr, tpr, marker = '.',color='blue', label='ROC curve (area = %0.2f)' % roc_auc, linestyle='--' )\n",
    "plt.plot([0, 1], [0, 1], color='navy', linestyle='--')\n",
    "plt.fill_between(fpr, tpr, alpha=0.3)\n",
    "plt.xlabel('False Positive Rate', fontsize = \"20\")\n",
    "plt.ylabel('True Positive Rate', fontsize = \"20\")\n",
    "plt.legend(loc=\"lower right\", fontsize=\"20\")\n",
    "plt.xticks(fontsize=\"15\")\n",
    "plt.yticks(fontsize=\"15\")\n",
    "plt.show()"
   ]
  },
  {
   "cell_type": "code",
   "execution_count": 32,
   "metadata": {},
   "outputs": [],
   "source": [
    "roc_ann_data = pd.DataFrame({'False Positive Rate': fpr, 'True Positive Rate': tpr})\n",
    "roc_ann_data.to_csv('roc_data.csv', index=False)"
   ]
  },
  {
   "cell_type": "code",
   "execution_count": 17,
   "metadata": {},
   "outputs": [],
   "source": [
    "from keras.callbacks import EarlyStopping"
   ]
  },
  {
   "cell_type": "code",
   "execution_count": 18,
   "metadata": {},
   "outputs": [],
   "source": [
    "early_stopping = EarlyStopping(monitor='val_loss',patience=20)"
   ]
  },
  {
   "cell_type": "code",
   "execution_count": 173,
   "metadata": {},
   "outputs": [
    {
     "data": {
      "text/plain": [
       "(34720, 10)"
      ]
     },
     "execution_count": 173,
     "metadata": {},
     "output_type": "execute_result"
    }
   ],
   "source": [
    "X_train.shape"
   ]
  },
  {
   "cell_type": "code",
   "execution_count": 185,
   "metadata": {},
   "outputs": [
    {
     "data": {
      "text/plain": [
       "(27776, 10)"
      ]
     },
     "execution_count": 185,
     "metadata": {},
     "output_type": "execute_result"
    }
   ],
   "source": [
    "X_train1.shape"
   ]
  },
  {
   "cell_type": "code",
   "execution_count": 186,
   "metadata": {},
   "outputs": [
    {
     "data": {
      "text/plain": [
       "(6944, 10)"
      ]
     },
     "execution_count": 186,
     "metadata": {},
     "output_type": "execute_result"
    }
   ],
   "source": [
    "X_val.shape"
   ]
  },
  {
   "cell_type": "code",
   "execution_count": 187,
   "metadata": {},
   "outputs": [
    {
     "data": {
      "text/plain": [
       "(6944,)"
      ]
     },
     "execution_count": 187,
     "metadata": {},
     "output_type": "execute_result"
    }
   ],
   "source": [
    "y_val.shape"
   ]
  },
  {
   "cell_type": "code",
   "execution_count": 19,
   "metadata": {},
   "outputs": [],
   "source": [
    "X_train1,X_val, y_train1, y_val = train_test_split(X_train, y_train, test_size=0.2, random_state=0)"
   ]
  },
  {
   "cell_type": "code",
   "execution_count": 20,
   "metadata": {},
   "outputs": [
    {
     "name": "stdout",
     "output_type": "stream",
     "text": [
      "Epoch 1/150\n",
      "868/868 [==============================] - 2s 2ms/step - loss: 0.3054 - accuracy: 0.9808 - auc: 0.5140 - val_loss: 0.1607 - val_accuracy: 0.9820 - val_auc: 0.4589\n",
      "Epoch 2/150\n",
      "868/868 [==============================] - 1s 1ms/step - loss: 0.1312 - accuracy: 0.9811 - auc: 0.4903 - val_loss: 0.1096 - val_accuracy: 0.9820 - val_auc: 0.5000\n",
      "Epoch 3/150\n",
      "868/868 [==============================] - 1s 1ms/step - loss: 0.1048 - accuracy: 0.9811 - auc: 0.5059 - val_loss: 0.0966 - val_accuracy: 0.9820 - val_auc: 0.5000\n",
      "Epoch 4/150\n",
      "868/868 [==============================] - 1s 1ms/step - loss: 0.0975 - accuracy: 0.9811 - auc: 0.5126 - val_loss: 0.0924 - val_accuracy: 0.9820 - val_auc: 0.5000\n",
      "Epoch 5/150\n",
      "868/868 [==============================] - 1s 1ms/step - loss: 0.0950 - accuracy: 0.9811 - auc: 0.5297 - val_loss: 0.0907 - val_accuracy: 0.9820 - val_auc: 0.5378\n",
      "Epoch 6/150\n",
      "868/868 [==============================] - 1s 1ms/step - loss: 0.0941 - accuracy: 0.9811 - auc: 0.5246 - val_loss: 0.0900 - val_accuracy: 0.9820 - val_auc: 0.5573\n",
      "Epoch 7/150\n",
      "868/868 [==============================] - 1s 1ms/step - loss: 0.0936 - accuracy: 0.9811 - auc: 0.5457 - val_loss: 0.0895 - val_accuracy: 0.9820 - val_auc: 0.6451\n",
      "Epoch 8/150\n",
      "868/868 [==============================] - 1s 1ms/step - loss: 0.0932 - accuracy: 0.9811 - auc: 0.5766 - val_loss: 0.0891 - val_accuracy: 0.9820 - val_auc: 0.6877\n",
      "Epoch 9/150\n",
      "868/868 [==============================] - 1s 1ms/step - loss: 0.0929 - accuracy: 0.9811 - auc: 0.5848 - val_loss: 0.0887 - val_accuracy: 0.9820 - val_auc: 0.7217\n",
      "Epoch 10/150\n",
      "868/868 [==============================] - 1s 1ms/step - loss: 0.0923 - accuracy: 0.9811 - auc: 0.6212 - val_loss: 0.0883 - val_accuracy: 0.9820 - val_auc: 0.7500\n",
      "Epoch 11/150\n",
      "868/868 [==============================] - 1s 1ms/step - loss: 0.0922 - accuracy: 0.9811 - auc: 0.6230 - val_loss: 0.0878 - val_accuracy: 0.9820 - val_auc: 0.7605\n",
      "Epoch 12/150\n",
      "868/868 [==============================] - 1s 1ms/step - loss: 0.0915 - accuracy: 0.9811 - auc: 0.6510 - val_loss: 0.0873 - val_accuracy: 0.9820 - val_auc: 0.7661\n",
      "Epoch 13/150\n",
      "868/868 [==============================] - 1s 1ms/step - loss: 0.0912 - accuracy: 0.9811 - auc: 0.6577 - val_loss: 0.0867 - val_accuracy: 0.9820 - val_auc: 0.7659\n",
      "Epoch 14/150\n",
      "868/868 [==============================] - 1s 1ms/step - loss: 0.0905 - accuracy: 0.9811 - auc: 0.6847 - val_loss: 0.0860 - val_accuracy: 0.9820 - val_auc: 0.7777\n",
      "Epoch 15/150\n",
      "868/868 [==============================] - 1s 2ms/step - loss: 0.0897 - accuracy: 0.9811 - auc: 0.7016 - val_loss: 0.0851 - val_accuracy: 0.9820 - val_auc: 0.7858\n",
      "Epoch 16/150\n",
      "868/868 [==============================] - 1s 2ms/step - loss: 0.0888 - accuracy: 0.9811 - auc: 0.7303 - val_loss: 0.0841 - val_accuracy: 0.9820 - val_auc: 0.8009\n",
      "Epoch 17/150\n",
      "868/868 [==============================] - 1s 2ms/step - loss: 0.0881 - accuracy: 0.9811 - auc: 0.7343 - val_loss: 0.0830 - val_accuracy: 0.9820 - val_auc: 0.8176\n",
      "Epoch 18/150\n",
      "868/868 [==============================] - 1s 1ms/step - loss: 0.0865 - accuracy: 0.9811 - auc: 0.7722 - val_loss: 0.0819 - val_accuracy: 0.9820 - val_auc: 0.8249\n",
      "Epoch 19/150\n",
      "868/868 [==============================] - 1s 2ms/step - loss: 0.0856 - accuracy: 0.9811 - auc: 0.7806 - val_loss: 0.0810 - val_accuracy: 0.9820 - val_auc: 0.8299\n",
      "Epoch 20/150\n",
      "868/868 [==============================] - 1s 1ms/step - loss: 0.0851 - accuracy: 0.9811 - auc: 0.7877 - val_loss: 0.0801 - val_accuracy: 0.9820 - val_auc: 0.8299\n",
      "Epoch 21/150\n",
      "868/868 [==============================] - 1s 1ms/step - loss: 0.0845 - accuracy: 0.9811 - auc: 0.7917 - val_loss: 0.0794 - val_accuracy: 0.9820 - val_auc: 0.8307\n",
      "Epoch 22/150\n",
      "868/868 [==============================] - 1s 1ms/step - loss: 0.0836 - accuracy: 0.9811 - auc: 0.8054 - val_loss: 0.0787 - val_accuracy: 0.9820 - val_auc: 0.8402\n",
      "Epoch 23/150\n",
      "868/868 [==============================] - 1s 1ms/step - loss: 0.0833 - accuracy: 0.9811 - auc: 0.8049 - val_loss: 0.0781 - val_accuracy: 0.9820 - val_auc: 0.8422\n",
      "Epoch 24/150\n",
      "868/868 [==============================] - 1s 1ms/step - loss: 0.0826 - accuracy: 0.9811 - auc: 0.8096 - val_loss: 0.0776 - val_accuracy: 0.9820 - val_auc: 0.8462\n",
      "Epoch 25/150\n",
      "868/868 [==============================] - 1s 1ms/step - loss: 0.0819 - accuracy: 0.9811 - auc: 0.8180 - val_loss: 0.0771 - val_accuracy: 0.9820 - val_auc: 0.8464\n",
      "Epoch 26/150\n",
      "868/868 [==============================] - 1s 1ms/step - loss: 0.0817 - accuracy: 0.9811 - auc: 0.8180 - val_loss: 0.0767 - val_accuracy: 0.9820 - val_auc: 0.8482\n",
      "Epoch 27/150\n",
      "868/868 [==============================] - 1s 1ms/step - loss: 0.0819 - accuracy: 0.9811 - auc: 0.8145 - val_loss: 0.0764 - val_accuracy: 0.9820 - val_auc: 0.8485\n",
      "Epoch 28/150\n",
      "868/868 [==============================] - 1s 1ms/step - loss: 0.0814 - accuracy: 0.9811 - auc: 0.8172 - val_loss: 0.0761 - val_accuracy: 0.9820 - val_auc: 0.8491\n",
      "Epoch 29/150\n",
      "868/868 [==============================] - 1s 1ms/step - loss: 0.0809 - accuracy: 0.9811 - auc: 0.8215 - val_loss: 0.0758 - val_accuracy: 0.9820 - val_auc: 0.8492\n",
      "Epoch 30/150\n",
      "868/868 [==============================] - 1s 1ms/step - loss: 0.0809 - accuracy: 0.9811 - auc: 0.8191 - val_loss: 0.0755 - val_accuracy: 0.9820 - val_auc: 0.8481\n",
      "Epoch 31/150\n",
      "868/868 [==============================] - 1s 1ms/step - loss: 0.0802 - accuracy: 0.9811 - auc: 0.8276 - val_loss: 0.0753 - val_accuracy: 0.9820 - val_auc: 0.8489\n",
      "Epoch 32/150\n",
      "868/868 [==============================] - 1s 2ms/step - loss: 0.0800 - accuracy: 0.9811 - auc: 0.8274 - val_loss: 0.0751 - val_accuracy: 0.9820 - val_auc: 0.8500\n",
      "Epoch 33/150\n",
      "868/868 [==============================] - 1s 1ms/step - loss: 0.0803 - accuracy: 0.9811 - auc: 0.8258 - val_loss: 0.0749 - val_accuracy: 0.9820 - val_auc: 0.8511\n",
      "Epoch 34/150\n",
      "868/868 [==============================] - 1s 2ms/step - loss: 0.0800 - accuracy: 0.9811 - auc: 0.8262 - val_loss: 0.0747 - val_accuracy: 0.9820 - val_auc: 0.8523\n",
      "Epoch 35/150\n",
      "868/868 [==============================] - 1s 2ms/step - loss: 0.0793 - accuracy: 0.9811 - auc: 0.8340 - val_loss: 0.0746 - val_accuracy: 0.9820 - val_auc: 0.8534\n",
      "Epoch 36/150\n",
      "868/868 [==============================] - 1s 1ms/step - loss: 0.0795 - accuracy: 0.9811 - auc: 0.8328 - val_loss: 0.0744 - val_accuracy: 0.9820 - val_auc: 0.8542\n",
      "Epoch 37/150\n",
      "868/868 [==============================] - 1s 1ms/step - loss: 0.0790 - accuracy: 0.9811 - auc: 0.8364 - val_loss: 0.0743 - val_accuracy: 0.9820 - val_auc: 0.8531\n",
      "Epoch 38/150\n",
      "868/868 [==============================] - 1s 2ms/step - loss: 0.0792 - accuracy: 0.9811 - auc: 0.8315 - val_loss: 0.0741 - val_accuracy: 0.9820 - val_auc: 0.8556\n",
      "Epoch 39/150\n",
      "868/868 [==============================] - 1s 1ms/step - loss: 0.0789 - accuracy: 0.9811 - auc: 0.8325 - val_loss: 0.0741 - val_accuracy: 0.9820 - val_auc: 0.8527\n",
      "Epoch 40/150\n",
      "868/868 [==============================] - 1s 2ms/step - loss: 0.0787 - accuracy: 0.9811 - auc: 0.8332 - val_loss: 0.0740 - val_accuracy: 0.9820 - val_auc: 0.8525\n",
      "Epoch 41/150\n",
      "868/868 [==============================] - 1s 2ms/step - loss: 0.0786 - accuracy: 0.9811 - auc: 0.8361 - val_loss: 0.0740 - val_accuracy: 0.9820 - val_auc: 0.8489\n",
      "Epoch 42/150\n",
      "868/868 [==============================] - 1s 2ms/step - loss: 0.0788 - accuracy: 0.9811 - auc: 0.8340 - val_loss: 0.0739 - val_accuracy: 0.9820 - val_auc: 0.8486\n",
      "Epoch 43/150\n",
      "868/868 [==============================] - 1s 2ms/step - loss: 0.0788 - accuracy: 0.9811 - auc: 0.8325 - val_loss: 0.0739 - val_accuracy: 0.9820 - val_auc: 0.8504\n",
      "Epoch 44/150\n",
      "868/868 [==============================] - 1s 2ms/step - loss: 0.0787 - accuracy: 0.9811 - auc: 0.8347 - val_loss: 0.0739 - val_accuracy: 0.9820 - val_auc: 0.8502\n",
      "Epoch 45/150\n",
      "868/868 [==============================] - 1s 2ms/step - loss: 0.0785 - accuracy: 0.9811 - auc: 0.8358 - val_loss: 0.0738 - val_accuracy: 0.9820 - val_auc: 0.8494\n",
      "Epoch 46/150\n",
      "868/868 [==============================] - 1s 1ms/step - loss: 0.0781 - accuracy: 0.9811 - auc: 0.8400 - val_loss: 0.0738 - val_accuracy: 0.9820 - val_auc: 0.8453\n",
      "Epoch 47/150\n",
      "868/868 [==============================] - 1s 2ms/step - loss: 0.0786 - accuracy: 0.9811 - auc: 0.8341 - val_loss: 0.0737 - val_accuracy: 0.9820 - val_auc: 0.8464\n",
      "Epoch 48/150\n",
      "868/868 [==============================] - 1s 1ms/step - loss: 0.0790 - accuracy: 0.9811 - auc: 0.8312 - val_loss: 0.0737 - val_accuracy: 0.9820 - val_auc: 0.8469\n",
      "Epoch 49/150\n",
      "868/868 [==============================] - 1s 1ms/step - loss: 0.0783 - accuracy: 0.9811 - auc: 0.8375 - val_loss: 0.0737 - val_accuracy: 0.9820 - val_auc: 0.8467\n",
      "Epoch 50/150\n",
      "868/868 [==============================] - 1s 1ms/step - loss: 0.0785 - accuracy: 0.9811 - auc: 0.8348 - val_loss: 0.0737 - val_accuracy: 0.9820 - val_auc: 0.8461\n",
      "Epoch 51/150\n",
      "868/868 [==============================] - 1s 1ms/step - loss: 0.0784 - accuracy: 0.9811 - auc: 0.8364 - val_loss: 0.0737 - val_accuracy: 0.9820 - val_auc: 0.8471\n",
      "Epoch 52/150\n",
      "868/868 [==============================] - 1s 1ms/step - loss: 0.0784 - accuracy: 0.9811 - auc: 0.8333 - val_loss: 0.0737 - val_accuracy: 0.9820 - val_auc: 0.8470\n",
      "Epoch 53/150\n",
      "868/868 [==============================] - 1s 1ms/step - loss: 0.0786 - accuracy: 0.9811 - auc: 0.8337 - val_loss: 0.0737 - val_accuracy: 0.9820 - val_auc: 0.8462\n",
      "Epoch 54/150\n",
      "868/868 [==============================] - 1s 1ms/step - loss: 0.0784 - accuracy: 0.9811 - auc: 0.8354 - val_loss: 0.0737 - val_accuracy: 0.9820 - val_auc: 0.8461\n",
      "Epoch 55/150\n",
      "868/868 [==============================] - 1s 1ms/step - loss: 0.0783 - accuracy: 0.9811 - auc: 0.8351 - val_loss: 0.0737 - val_accuracy: 0.9820 - val_auc: 0.8459\n",
      "Epoch 56/150\n",
      "868/868 [==============================] - 1s 1ms/step - loss: 0.0782 - accuracy: 0.9811 - auc: 0.8357 - val_loss: 0.0737 - val_accuracy: 0.9820 - val_auc: 0.8462\n",
      "Epoch 57/150\n",
      "868/868 [==============================] - 1s 1ms/step - loss: 0.0782 - accuracy: 0.9811 - auc: 0.8358 - val_loss: 0.0737 - val_accuracy: 0.9820 - val_auc: 0.8455\n",
      "Epoch 58/150\n",
      "868/868 [==============================] - 1s 1ms/step - loss: 0.0780 - accuracy: 0.9811 - auc: 0.8376 - val_loss: 0.0737 - val_accuracy: 0.9820 - val_auc: 0.8457\n",
      "Epoch 59/150\n",
      "868/868 [==============================] - 1s 2ms/step - loss: 0.0782 - accuracy: 0.9811 - auc: 0.8375 - val_loss: 0.0737 - val_accuracy: 0.9820 - val_auc: 0.8457\n",
      "Epoch 60/150\n",
      "868/868 [==============================] - 1s 2ms/step - loss: 0.0785 - accuracy: 0.9811 - auc: 0.8328 - val_loss: 0.0737 - val_accuracy: 0.9820 - val_auc: 0.8453\n",
      "Epoch 61/150\n",
      "868/868 [==============================] - 1s 2ms/step - loss: 0.0780 - accuracy: 0.9811 - auc: 0.8384 - val_loss: 0.0737 - val_accuracy: 0.9820 - val_auc: 0.8458\n",
      "Epoch 62/150\n",
      "868/868 [==============================] - 1s 2ms/step - loss: 0.0781 - accuracy: 0.9811 - auc: 0.8369 - val_loss: 0.0738 - val_accuracy: 0.9820 - val_auc: 0.8457\n",
      "Epoch 63/150\n",
      "868/868 [==============================] - 1s 2ms/step - loss: 0.0785 - accuracy: 0.9811 - auc: 0.8344 - val_loss: 0.0737 - val_accuracy: 0.9820 - val_auc: 0.8459\n",
      "Epoch 64/150\n",
      "868/868 [==============================] - 1s 2ms/step - loss: 0.0782 - accuracy: 0.9811 - auc: 0.8331 - val_loss: 0.0737 - val_accuracy: 0.9820 - val_auc: 0.8469\n",
      "Epoch 65/150\n",
      "868/868 [==============================] - 1s 2ms/step - loss: 0.0782 - accuracy: 0.9811 - auc: 0.8352 - val_loss: 0.0737 - val_accuracy: 0.9820 - val_auc: 0.8464\n",
      "Epoch 66/150\n",
      "868/868 [==============================] - 1s 2ms/step - loss: 0.0782 - accuracy: 0.9811 - auc: 0.8369 - val_loss: 0.0737 - val_accuracy: 0.9820 - val_auc: 0.8465\n",
      "Epoch 67/150\n",
      "868/868 [==============================] - 1s 2ms/step - loss: 0.0779 - accuracy: 0.9811 - auc: 0.8372 - val_loss: 0.0737 - val_accuracy: 0.9820 - val_auc: 0.8473\n",
      "Epoch 68/150\n",
      "868/868 [==============================] - 1s 2ms/step - loss: 0.0781 - accuracy: 0.9811 - auc: 0.8384 - val_loss: 0.0737 - val_accuracy: 0.9820 - val_auc: 0.8470\n",
      "Epoch 69/150\n",
      "868/868 [==============================] - 1s 1ms/step - loss: 0.0781 - accuracy: 0.9811 - auc: 0.8366 - val_loss: 0.0737 - val_accuracy: 0.9820 - val_auc: 0.8466\n",
      "Epoch 70/150\n",
      "868/868 [==============================] - 1s 2ms/step - loss: 0.0783 - accuracy: 0.9811 - auc: 0.8349 - val_loss: 0.0737 - val_accuracy: 0.9820 - val_auc: 0.8468\n",
      "Epoch 71/150\n",
      "868/868 [==============================] - 1s 2ms/step - loss: 0.0781 - accuracy: 0.9811 - auc: 0.8400 - val_loss: 0.0737 - val_accuracy: 0.9820 - val_auc: 0.8475\n",
      "Epoch 72/150\n",
      "868/868 [==============================] - 1s 2ms/step - loss: 0.0777 - accuracy: 0.9811 - auc: 0.8432 - val_loss: 0.0737 - val_accuracy: 0.9820 - val_auc: 0.8473\n",
      "Epoch 73/150\n",
      "868/868 [==============================] - 1s 2ms/step - loss: 0.0777 - accuracy: 0.9811 - auc: 0.8395 - val_loss: 0.0737 - val_accuracy: 0.9820 - val_auc: 0.8465\n",
      "Epoch 74/150\n",
      "868/868 [==============================] - 1s 2ms/step - loss: 0.0779 - accuracy: 0.9811 - auc: 0.8391 - val_loss: 0.0737 - val_accuracy: 0.9820 - val_auc: 0.8470\n",
      "Epoch 75/150\n",
      "868/868 [==============================] - 1s 2ms/step - loss: 0.0781 - accuracy: 0.9811 - auc: 0.8368 - val_loss: 0.0737 - val_accuracy: 0.9820 - val_auc: 0.8462\n"
     ]
    }
   ],
   "source": [
    "history = ann_model.fit(\n",
    "    X_train1, y_train1,\n",
    "    validation_data=(X_val, y_val),\n",
    "    epochs=150,\n",
    "    batch_size=32,\n",
    "    callbacks=[early_stopping]\n",
    ")"
   ]
  },
  {
   "cell_type": "code",
   "execution_count": 26,
   "metadata": {},
   "outputs": [],
   "source": [
    "ann_df = pd.DataFrame(history.history)"
   ]
  },
  {
   "cell_type": "code",
   "execution_count": 27,
   "metadata": {},
   "outputs": [],
   "source": [
    "ann_df['Epoch'] = range(1, len(ann_df) + 1)"
   ]
  },
  {
   "cell_type": "code",
   "execution_count": 29,
   "metadata": {},
   "outputs": [
    {
     "data": {
      "text/html": [
       "<div>\n",
       "<style scoped>\n",
       "    .dataframe tbody tr th:only-of-type {\n",
       "        vertical-align: middle;\n",
       "    }\n",
       "\n",
       "    .dataframe tbody tr th {\n",
       "        vertical-align: top;\n",
       "    }\n",
       "\n",
       "    .dataframe thead th {\n",
       "        text-align: right;\n",
       "    }\n",
       "</style>\n",
       "<table border=\"1\" class=\"dataframe\">\n",
       "  <thead>\n",
       "    <tr style=\"text-align: right;\">\n",
       "      <th></th>\n",
       "      <th>loss</th>\n",
       "      <th>accuracy</th>\n",
       "      <th>auc</th>\n",
       "      <th>val_loss</th>\n",
       "      <th>val_accuracy</th>\n",
       "      <th>val_auc</th>\n",
       "      <th>Epoch</th>\n",
       "    </tr>\n",
       "  </thead>\n",
       "  <tbody>\n",
       "    <tr>\n",
       "      <th>0</th>\n",
       "      <td>0.305424</td>\n",
       "      <td>0.980847</td>\n",
       "      <td>0.514004</td>\n",
       "      <td>0.160698</td>\n",
       "      <td>0.981999</td>\n",
       "      <td>0.458892</td>\n",
       "      <td>1</td>\n",
       "    </tr>\n",
       "    <tr>\n",
       "      <th>1</th>\n",
       "      <td>0.131157</td>\n",
       "      <td>0.981099</td>\n",
       "      <td>0.490316</td>\n",
       "      <td>0.109635</td>\n",
       "      <td>0.981999</td>\n",
       "      <td>0.500000</td>\n",
       "      <td>2</td>\n",
       "    </tr>\n",
       "    <tr>\n",
       "      <th>2</th>\n",
       "      <td>0.104797</td>\n",
       "      <td>0.981099</td>\n",
       "      <td>0.505879</td>\n",
       "      <td>0.096612</td>\n",
       "      <td>0.981999</td>\n",
       "      <td>0.500000</td>\n",
       "      <td>3</td>\n",
       "    </tr>\n",
       "    <tr>\n",
       "      <th>3</th>\n",
       "      <td>0.097457</td>\n",
       "      <td>0.981099</td>\n",
       "      <td>0.512584</td>\n",
       "      <td>0.092385</td>\n",
       "      <td>0.981999</td>\n",
       "      <td>0.500000</td>\n",
       "      <td>4</td>\n",
       "    </tr>\n",
       "    <tr>\n",
       "      <th>4</th>\n",
       "      <td>0.094973</td>\n",
       "      <td>0.981099</td>\n",
       "      <td>0.529693</td>\n",
       "      <td>0.090721</td>\n",
       "      <td>0.981999</td>\n",
       "      <td>0.537796</td>\n",
       "      <td>5</td>\n",
       "    </tr>\n",
       "    <tr>\n",
       "      <th>...</th>\n",
       "      <td>...</td>\n",
       "      <td>...</td>\n",
       "      <td>...</td>\n",
       "      <td>...</td>\n",
       "      <td>...</td>\n",
       "      <td>...</td>\n",
       "      <td>...</td>\n",
       "    </tr>\n",
       "    <tr>\n",
       "      <th>70</th>\n",
       "      <td>0.078052</td>\n",
       "      <td>0.981099</td>\n",
       "      <td>0.840047</td>\n",
       "      <td>0.073671</td>\n",
       "      <td>0.981999</td>\n",
       "      <td>0.847456</td>\n",
       "      <td>71</td>\n",
       "    </tr>\n",
       "    <tr>\n",
       "      <th>71</th>\n",
       "      <td>0.077666</td>\n",
       "      <td>0.981099</td>\n",
       "      <td>0.843160</td>\n",
       "      <td>0.073685</td>\n",
       "      <td>0.981999</td>\n",
       "      <td>0.847291</td>\n",
       "      <td>72</td>\n",
       "    </tr>\n",
       "    <tr>\n",
       "      <th>72</th>\n",
       "      <td>0.077682</td>\n",
       "      <td>0.981099</td>\n",
       "      <td>0.839478</td>\n",
       "      <td>0.073672</td>\n",
       "      <td>0.981999</td>\n",
       "      <td>0.846475</td>\n",
       "      <td>73</td>\n",
       "    </tr>\n",
       "    <tr>\n",
       "      <th>73</th>\n",
       "      <td>0.077851</td>\n",
       "      <td>0.981099</td>\n",
       "      <td>0.839120</td>\n",
       "      <td>0.073685</td>\n",
       "      <td>0.981999</td>\n",
       "      <td>0.847025</td>\n",
       "      <td>74</td>\n",
       "    </tr>\n",
       "    <tr>\n",
       "      <th>74</th>\n",
       "      <td>0.078133</td>\n",
       "      <td>0.981099</td>\n",
       "      <td>0.836838</td>\n",
       "      <td>0.073673</td>\n",
       "      <td>0.981999</td>\n",
       "      <td>0.846173</td>\n",
       "      <td>75</td>\n",
       "    </tr>\n",
       "  </tbody>\n",
       "</table>\n",
       "<p>75 rows × 7 columns</p>\n",
       "</div>"
      ],
      "text/plain": [
       "        loss  accuracy       auc  val_loss  val_accuracy   val_auc  Epoch\n",
       "0   0.305424  0.980847  0.514004  0.160698      0.981999  0.458892      1\n",
       "1   0.131157  0.981099  0.490316  0.109635      0.981999  0.500000      2\n",
       "2   0.104797  0.981099  0.505879  0.096612      0.981999  0.500000      3\n",
       "3   0.097457  0.981099  0.512584  0.092385      0.981999  0.500000      4\n",
       "4   0.094973  0.981099  0.529693  0.090721      0.981999  0.537796      5\n",
       "..       ...       ...       ...       ...           ...       ...    ...\n",
       "70  0.078052  0.981099  0.840047  0.073671      0.981999  0.847456     71\n",
       "71  0.077666  0.981099  0.843160  0.073685      0.981999  0.847291     72\n",
       "72  0.077682  0.981099  0.839478  0.073672      0.981999  0.846475     73\n",
       "73  0.077851  0.981099  0.839120  0.073685      0.981999  0.847025     74\n",
       "74  0.078133  0.981099  0.836838  0.073673      0.981999  0.846173     75\n",
       "\n",
       "[75 rows x 7 columns]"
      ]
     },
     "execution_count": 29,
     "metadata": {},
     "output_type": "execute_result"
    }
   ],
   "source": [
    "ann_df"
   ]
  },
  {
   "cell_type": "code",
   "execution_count": 37,
   "metadata": {},
   "outputs": [],
   "source": [
    "# Save the DataFrame to an Excel file\n",
    "ann_df.to_excel(r'Datasets/ANN_Data.xlsx')"
   ]
  },
  {
   "cell_type": "code",
   "execution_count": 30,
   "metadata": {},
   "outputs": [],
   "source": [
    "train_loss1 = list(ann_df['loss'])\n",
    "val_loss1 = list(ann_df['val_loss'])"
   ]
  },
  {
   "cell_type": "code",
   "execution_count": 32,
   "metadata": {},
   "outputs": [],
   "source": [
    "import numpy as np"
   ]
  },
  {
   "cell_type": "code",
   "execution_count": 36,
   "metadata": {},
   "outputs": [
    {
     "data": {
      "image/png": "[encoded data removed]",
      "text/plain": [
       "<Figure size 576x432 with 1 Axes>"
      ]
     },
     "metadata": {
      "needs_background": "light"
     },
     "output_type": "display_data"
    }
   ],
   "source": [
    "epochs = np.arange(1, ann_df.shape[0] + 1)\n",
    "plt.figure(figsize=(8, 6))\n",
    "plt.plot(epochs, train_loss1, label='Training Loss', marker='o',markersize=2, linestyle='--', color='blue')\n",
    "plt.plot(epochs, val_loss1, label='Validation Loss', marker='o',markersize=2, linestyle='--', color='orange')\n",
    "plt.xlabel('Epoch')\n",
    "plt.ylabel('Loss')\n",
    "plt.title('Training and Validation Loss')\n",
    "plt.legend()\n",
    "plt.grid(True)\n",
    "plt.show()"
   ]
  }
 ],
 "metadata": {
  "kernelspec": {
   "display_name": "Python 3 (ipykernel)",
   "language": "python",
   "name": "python3"
  },
  "language_info": {
   "codemirror_mode": {
    "name": "ipython",
    "version": 3
   },
   "file_extension": ".py",
   "mimetype": "text/x-python",
   "name": "python",
   "nbconvert_exporter": "python",
   "pygments_lexer": "ipython3",
   "version": "3.9.12"
  }
 },
 "nbformat": 4,
 "nbformat_minor": 1
}
